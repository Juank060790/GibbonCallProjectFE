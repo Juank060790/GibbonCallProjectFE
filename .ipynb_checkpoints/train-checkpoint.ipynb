{
 "cells": [
  {
   "cell_type": "code",
   "execution_count": 1,
   "id": "offensive-lambda",
   "metadata": {},
   "outputs": [],
   "source": [
    "from model.baseline import *\n",
    "from model.load import *"
   ]
  },
  {
   "cell_type": "code",
   "execution_count": 9,
   "id": "conventional-lending",
   "metadata": {},
   "outputs": [],
   "source": [
    "DATASET = \"extracted_audio\"\n",
    "epochs = 50\n",
    "\n",
    "callbacks = [tf.keras.callbacks.ReduceLROnPlateau()]"
   ]
  },
  {
   "cell_type": "code",
   "execution_count": 3,
   "id": "combined-intellectual",
   "metadata": {},
   "outputs": [],
   "source": [
    "x_train, y_train, x_test, y_test = loadSpectrogram(DATASET)"
   ]
  },
  {
   "cell_type": "code",
   "execution_count": 10,
   "id": "organized-rainbow",
   "metadata": {},
   "outputs": [],
   "source": [
    "train, validation = loadDataset(x_train, y_train, x_test, y_test)"
   ]
  },
  {
   "cell_type": "code",
   "execution_count": 7,
   "id": "flying-biology",
   "metadata": {},
   "outputs": [],
   "source": [
    "model = network()"
   ]
  },
  {
   "cell_type": "code",
   "execution_count": null,
   "id": "miniature-island",
   "metadata": {},
   "outputs": [
    {
     "name": "stdout",
     "output_type": "stream",
     "text": [
      "Train for 438 steps, validate for 110 steps\n",
      "Epoch 1/50\n",
      " 26/438 [>.............................] - ETA: 4:06 - loss: 0.5995 - accuracy: 0.6695"
     ]
    }
   ],
   "source": [
    "history = model.fit(train, validation_data = validation, epochs = 50, callbacks = callbacks,\n",
    "                    class_weight = {0:1.,1:1.})"
   ]
  }
 ],
 "metadata": {
  "kernelspec": {
   "display_name": "gibbon",
   "language": "python",
   "name": "gibbon"
  },
  "language_info": {
   "codemirror_mode": {
    "name": "ipython",
    "version": 3
   },
   "file_extension": ".py",
   "mimetype": "text/x-python",
   "name": "python",
   "nbconvert_exporter": "python",
   "pygments_lexer": "ipython3",
   "version": "3.7.1"
  }
 },
 "nbformat": 4,
 "nbformat_minor": 5
}
