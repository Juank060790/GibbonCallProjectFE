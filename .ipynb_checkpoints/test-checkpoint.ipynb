{
 "cells": [
  {
   "cell_type": "code",
   "execution_count": 24,
   "id": "sacred-honduras",
   "metadata": {},
   "outputs": [],
   "source": [
    "import pathlib \n",
    "import os\n",
    "import regex as re\n",
    "import librosa\n",
    "import pandas as pd "
   ]
  },
  {
   "cell_type": "code",
   "execution_count": 16,
   "id": "sublime-design",
   "metadata": {},
   "outputs": [],
   "source": [
    "folder = \"Selection Tables\"\n",
    "labels = [str(file) for file in pathlib.Path(os.path.join(os.getcwd(), folder)).glob(\"*.txt\")]"
   ]
  },
  {
   "cell_type": "markdown",
   "id": "healthy-knife",
   "metadata": {},
   "source": [
    "## Test extracting labels with 1 folder"
   ]
  },
  {
   "cell_type": "code",
   "execution_count": 17,
   "id": "impressive-integral",
   "metadata": {},
   "outputs": [],
   "source": [
    "with open(labels[0], \"r\") as file:\n",
    "    df = pd.read_csv(file, delimiter = \"\\t\")"
   ]
  },
  {
   "cell_type": "code",
   "execution_count": 19,
   "id": "double-sending",
   "metadata": {},
   "outputs": [
    {
     "data": {
      "text/html": [
       "<div>\n",
       "<style scoped>\n",
       "    .dataframe tbody tr th:only-of-type {\n",
       "        vertical-align: middle;\n",
       "    }\n",
       "\n",
       "    .dataframe tbody tr th {\n",
       "        vertical-align: top;\n",
       "    }\n",
       "\n",
       "    .dataframe thead th {\n",
       "        text-align: right;\n",
       "    }\n",
       "</style>\n",
       "<table border=\"1\" class=\"dataframe\">\n",
       "  <thead>\n",
       "    <tr style=\"text-align: right;\">\n",
       "      <th></th>\n",
       "      <th>Selection</th>\n",
       "      <th>View</th>\n",
       "      <th>Channel</th>\n",
       "      <th>Begin Time (s)</th>\n",
       "      <th>End Time (s)</th>\n",
       "      <th>Low Freq (Hz)</th>\n",
       "      <th>High Freq (Hz)</th>\n",
       "      <th>Begin File</th>\n",
       "      <th>Begin Path</th>\n",
       "      <th>Label</th>\n",
       "    </tr>\n",
       "  </thead>\n",
       "  <tbody>\n",
       "    <tr>\n",
       "      <th>0</th>\n",
       "      <td>1</td>\n",
       "      <td>Spectrogram 1</td>\n",
       "      <td>1</td>\n",
       "      <td>0.269477</td>\n",
       "      <td>3.934359</td>\n",
       "      <td>1002.4</td>\n",
       "      <td>1806.2</td>\n",
       "      <td>20200929_032722.WAV</td>\n",
       "      <td>D:\\Fauna &amp; Flora International\\VietnamAudioSto...</td>\n",
       "      <td>bird</td>\n",
       "    </tr>\n",
       "    <tr>\n",
       "      <th>1</th>\n",
       "      <td>2</td>\n",
       "      <td>Spectrogram 1</td>\n",
       "      <td>1</td>\n",
       "      <td>8.299880</td>\n",
       "      <td>11.264122</td>\n",
       "      <td>1091.7</td>\n",
       "      <td>1667.3</td>\n",
       "      <td>20200929_032722.WAV</td>\n",
       "      <td>D:\\Fauna &amp; Flora International\\VietnamAudioSto...</td>\n",
       "      <td>mm</td>\n",
       "    </tr>\n",
       "    <tr>\n",
       "      <th>2</th>\n",
       "      <td>3</td>\n",
       "      <td>Spectrogram 1</td>\n",
       "      <td>1</td>\n",
       "      <td>21.679146</td>\n",
       "      <td>23.296005</td>\n",
       "      <td>1240.5</td>\n",
       "      <td>1578.0</td>\n",
       "      <td>20200929_032722.WAV</td>\n",
       "      <td>D:\\Fauna &amp; Flora International\\VietnamAudioSto...</td>\n",
       "      <td>bird</td>\n",
       "    </tr>\n",
       "    <tr>\n",
       "      <th>3</th>\n",
       "      <td>4</td>\n",
       "      <td>Spectrogram 1</td>\n",
       "      <td>1</td>\n",
       "      <td>29.170596</td>\n",
       "      <td>32.619896</td>\n",
       "      <td>1111.5</td>\n",
       "      <td>1647.4</td>\n",
       "      <td>20200929_032722.WAV</td>\n",
       "      <td>D:\\Fauna &amp; Flora International\\VietnamAudioSto...</td>\n",
       "      <td>mm</td>\n",
       "    </tr>\n",
       "    <tr>\n",
       "      <th>4</th>\n",
       "      <td>5</td>\n",
       "      <td>Spectrogram 1</td>\n",
       "      <td>1</td>\n",
       "      <td>26.960887</td>\n",
       "      <td>27.877108</td>\n",
       "      <td>1220.7</td>\n",
       "      <td>1439.0</td>\n",
       "      <td>20200929_032722.WAV</td>\n",
       "      <td>D:\\Fauna &amp; Flora International\\VietnamAudioSto...</td>\n",
       "      <td>other</td>\n",
       "    </tr>\n",
       "  </tbody>\n",
       "</table>\n",
       "</div>"
      ],
      "text/plain": [
       "   Selection           View  Channel  Begin Time (s)  End Time (s)  \\\n",
       "0          1  Spectrogram 1        1        0.269477      3.934359   \n",
       "1          2  Spectrogram 1        1        8.299880     11.264122   \n",
       "2          3  Spectrogram 1        1       21.679146     23.296005   \n",
       "3          4  Spectrogram 1        1       29.170596     32.619896   \n",
       "4          5  Spectrogram 1        1       26.960887     27.877108   \n",
       "\n",
       "   Low Freq (Hz)  High Freq (Hz)           Begin File  \\\n",
       "0         1002.4          1806.2  20200929_032722.WAV   \n",
       "1         1091.7          1667.3  20200929_032722.WAV   \n",
       "2         1240.5          1578.0  20200929_032722.WAV   \n",
       "3         1111.5          1647.4  20200929_032722.WAV   \n",
       "4         1220.7          1439.0  20200929_032722.WAV   \n",
       "\n",
       "                                          Begin Path  Label  \n",
       "0  D:\\Fauna & Flora International\\VietnamAudioSto...   bird  \n",
       "1  D:\\Fauna & Flora International\\VietnamAudioSto...     mm  \n",
       "2  D:\\Fauna & Flora International\\VietnamAudioSto...   bird  \n",
       "3  D:\\Fauna & Flora International\\VietnamAudioSto...     mm  \n",
       "4  D:\\Fauna & Flora International\\VietnamAudioSto...  other  "
      ]
     },
     "execution_count": 19,
     "metadata": {},
     "output_type": "execute_result"
    }
   ],
   "source": [
    "df.head()"
   ]
  },
  {
   "cell_type": "code",
   "execution_count": 22,
   "id": "grateful-auckland",
   "metadata": {},
   "outputs": [
    {
     "name": "stdout",
     "output_type": "stream",
     "text": [
      "D:\\Fauna & Flora International\\VietnamAudioStorage - Root\\Trung Khanh\\2020 Survey\\Raw Audio Files\\Phase 2 (Deployed - September to October)\\D1\\01\\01b\\20200929_032722.WAV\n"
     ]
    }
   ],
   "source": [
    "sample_path = df[\"Begin Path\"][0]\n",
    "print(sample_path)"
   ]
  },
  {
   "cell_type": "code",
   "execution_count": 44,
   "id": "refined-cover",
   "metadata": {},
   "outputs": [
    {
     "name": "stdout",
     "output_type": "stream",
     "text": [
      "\\Phase 2 (Deployed - September to October)\\D1\\01\\01b\\20200929_032722.WAV\n"
     ]
    }
   ],
   "source": [
    "relative_path = re.findall(\"Raw Audio Files(.*)\", sample_path)[0]\n",
    "print(relative_path)"
   ]
  },
  {
   "cell_type": "code",
   "execution_count": 45,
   "id": "behind-router",
   "metadata": {},
   "outputs": [
    {
     "data": {
      "text/plain": [
       "'D:\\\\Phase 2 (Deployed - September to October)\\\\D1\\\\01\\\\01b\\\\20200929_032722.WAV'"
      ]
     },
     "execution_count": 45,
     "metadata": {},
     "output_type": "execute_result"
    }
   ],
   "source": [
    "os.path.abspath(os.path.expanduser(relative_path))"
   ]
  }
 ],
 "metadata": {
  "kernelspec": {
   "display_name": "gibbon",
   "language": "python",
   "name": "gibbon"
  },
  "language_info": {
   "codemirror_mode": {
    "name": "ipython",
    "version": 3
   },
   "file_extension": ".py",
   "mimetype": "text/x-python",
   "name": "python",
   "nbconvert_exporter": "python",
   "pygments_lexer": "ipython3",
   "version": "3.7.1"
  }
 },
 "nbformat": 4,
 "nbformat_minor": 5
}
