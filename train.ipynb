{
 "cells": [
  {
   "cell_type": "code",
   "execution_count": 1,
   "id": "applied-absorption",
   "metadata": {},
   "outputs": [],
   "source": [
    "from model.baseline import *\n",
    "from model.load import *"
   ]
  },
  {
   "cell_type": "code",
   "execution_count": 9,
   "id": "quick-shopping",
   "metadata": {},
   "outputs": [],
   "source": [
    "DATASET = \"extracted_audio\"\n",
    "epochs = 50\n",
    "\n",
    "callbacks = [tf.keras.callbacks.ReduceLROnPlateau()]"
   ]
  },
  {
   "cell_type": "code",
   "execution_count": 3,
   "id": "cubic-attendance",
   "metadata": {},
   "outputs": [],
   "source": [
    "x_train, y_train, x_test, y_test = loadSpectrogram(DATASET)"
   ]
  },
  {
   "cell_type": "code",
   "execution_count": 10,
   "id": "angry-german",
   "metadata": {},
   "outputs": [],
   "source": [
    "train, validation = loadDataset(x_train, y_train, x_test, y_test)"
   ]
  },
  {
   "cell_type": "code",
   "execution_count": 7,
   "id": "superb-entrance",
   "metadata": {},
   "outputs": [],
   "source": [
    "model = network()"
   ]
  },
  {
   "cell_type": "code",
   "execution_count": null,
   "id": "human-politics",
   "metadata": {},
   "outputs": [
    {
     "name": "stdout",
     "output_type": "stream",
     "text": [
      "Train for 438 steps, validate for 110 steps\n",
      "Epoch 1/50\n",
      "438/438 [==============================] - 278s 635ms/step - loss: 0.4326 - accuracy: 0.8015 - val_loss: 0.4091 - val_accuracy: 0.8114\n",
      "Epoch 2/50\n",
      "438/438 [==============================] - 372s 849ms/step - loss: 0.3500 - accuracy: 0.8329 - val_loss: 0.3799 - val_accuracy: 0.8329\n",
      "Epoch 3/50\n",
      "438/438 [==============================] - 486s 1s/step - loss: 0.3289 - accuracy: 0.8458 - val_loss: 0.3480 - val_accuracy: 0.8414\n",
      "Epoch 4/50\n",
      "438/438 [==============================] - 533s 1s/step - loss: 0.3102 - accuracy: 0.8541 - val_loss: 0.3445 - val_accuracy: 0.8383\n",
      "Epoch 5/50\n",
      "438/438 [==============================] - 537s 1s/step - loss: 0.2910 - accuracy: 0.8638 - val_loss: 0.3388 - val_accuracy: 0.8474\n",
      "Epoch 6/50\n",
      "438/438 [==============================] - 523s 1s/step - loss: 0.2813 - accuracy: 0.8689 - val_loss: 0.3306 - val_accuracy: 0.8520\n",
      "Epoch 7/50\n",
      "438/438 [==============================] - 522s 1s/step - loss: 0.2688 - accuracy: 0.8766 - val_loss: 0.3264 - val_accuracy: 0.8546\n",
      "Epoch 8/50\n",
      "438/438 [==============================] - 526s 1s/step - loss: 0.2570 - accuracy: 0.8805 - val_loss: 0.3189 - val_accuracy: 0.8566\n",
      "Epoch 9/50\n",
      "193/438 [============>.................] - ETA: 4:51 - loss: 0.2558 - accuracy: 0.8787"
     ]
    }
   ],
   "source": [
    "history = model.fit(train, validation_data = validation, epochs = 50, callbacks = callbacks,\n",
    "                    class_weight = {0:1.,1:1.})"
   ]
  }
 ],
 "metadata": {
  "kernelspec": {
   "display_name": "gibbon",
   "language": "python",
   "name": "gibbon"
  },
  "language_info": {
   "codemirror_mode": {
    "name": "ipython",
    "version": 3
   },
   "file_extension": ".py",
   "mimetype": "text/x-python",
   "name": "python",
   "nbconvert_exporter": "python",
   "pygments_lexer": "ipython3",
   "version": "3.7.1"
  }
 },
 "nbformat": 4,
 "nbformat_minor": 5
}
