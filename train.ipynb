{
 "cells": [
  {
   "cell_type": "code",
   "execution_count": 19,
   "id": "rough-grounds",
   "metadata": {},
   "outputs": [],
   "source": [
    "from model.baseline import *\n",
    "from model.load import *\n",
    "\n",
    "import time\n",
    "from sklearn.metrics import accuracy_score, confusion_matrix"
   ]
  },
  {
   "cell_type": "code",
   "execution_count": 33,
   "id": "measured-parent",
   "metadata": {},
   "outputs": [],
   "source": [
    "def main(filename: str):\n",
    "    '''\n",
    "    filename: Model name idenfitier with hdf5 extension.\n",
    "    '''\n",
    "    #Optimize performance \n",
    "    tf.keras.backend.clear_session()\n",
    "    os.environ[\"TF_FORCE_GPU_ALLOW_GROWTH\"] = \"true\"\n",
    "\n",
    "    #Load dataset\n",
    "    DATASET = \"extracted_audio\"\n",
    "    PATH = os.path.join(os.getcwd(), DATASET)\n",
    "    \n",
    "    x_train, y_train, x_test, y_test = loadSpectrogram(PATH)\n",
    "    train, validation = loadDataset(x_train, y_train, x_test, y_test)\n",
    "    \n",
    "    model = network()\n",
    "    \n",
    "    #Callbacks \n",
    "    ckpt = os.path.join(os.getcwd(), 'model', 'ckpt', filename)\n",
    "    callbacks = [tf.keras.callbacks.ReduceLROnPlateau(), \n",
    "                 tf.keras.callbacks.ModelCheckpoint(filepath = ckpt, monitor = \"val_accuracy\", save_best_only = True,\n",
    "                                                     mode = \"max\"),\n",
    "                 tf.keras.callbacks.EarlyStopping()]\n",
    "    \n",
    "    start = time.time()\n",
    "    history = model.fit(train, validation_data = validation, epochs = 10, callbacks = callbacks,\n",
    "                        class_weight = {0:1., 1:1.})\n",
    "    end = time.time()\n",
    "    print(f\"Model train time: {end - start}\")\n",
    "    \n",
    "    predictions = model.predict_classes(x_test)\n",
    "    val_accuracy = accuracy_score(predictions, np.argmax(y_test, 1))\n",
    "    matrix = confusion_matrix(np.argmax(y_test, 1), predictions)\n",
    "    \n",
    "    TN = matrix[0][0] \n",
    "    TP = maxtrix[1][1]\n",
    "    FN = matrix[0][1]\n",
    "    FP = matrix[1][1]\n",
    "    \n",
    "    plotConfusionMatrix(matrix)\n",
    "    \n",
    "    return history "
   ]
  },
  {
   "cell_type": "code",
   "execution_count": 34,
   "id": "italian-coast",
   "metadata": {},
   "outputs": [
    {
     "name": "stdout",
     "output_type": "stream",
     "text": [
      "Train for 438 steps, validate for 110 steps\n",
      "Epoch 1/10\n",
      "438/438 [==============================] - 330s 753ms/step - loss: 0.4286 - accuracy: 0.7997 - val_loss: 0.4166 - val_accuracy: 0.8151\n",
      "Epoch 2/10\n",
      "438/438 [==============================] - 331s 755ms/step - loss: 0.3618 - accuracy: 0.8321 - val_loss: 0.3634 - val_accuracy: 0.8377\n",
      "Epoch 3/10\n",
      "438/438 [==============================] - 317s 724ms/step - loss: 0.3391 - accuracy: 0.8443 - val_loss: 0.3393 - val_accuracy: 0.8434\n",
      "Epoch 4/10\n",
      "438/438 [==============================] - 296s 675ms/step - loss: 0.3227 - accuracy: 0.8517 - val_loss: 0.3258 - val_accuracy: 0.8466\n",
      "Epoch 5/10\n",
      "438/438 [==============================] - 290s 661ms/step - loss: 0.3062 - accuracy: 0.8585 - val_loss: 0.3264 - val_accuracy: 0.8386\n",
      "Model train time: 1563.4148955345154\n"
     ]
    }
   ],
   "source": [
    "if __name__ == \"__main__\":\n",
    "    FILENAME = \"baseline.hdf5\"\n",
    "    history = main(FILENAME)"
   ]
  },
  {
   "cell_type": "code",
   "execution_count": 97,
   "id": "severe-mechanism",
   "metadata": {},
   "outputs": [
    {
     "data": {
      "image/png": "[encoded data removed]",
      "text/plain": [
       "<Figure size 432x288 with 2 Axes>"
      ]
     },
     "metadata": {
      "needs_background": "light"
     },
     "output_type": "display_data"
    }
   ],
   "source": [
    "plotConfusionMatrix(cnf_matrix)"
   ]
  }
 ],
 "metadata": {
  "kernelspec": {
   "display_name": "gibbon",
   "language": "python",
   "name": "gibbon"
  },
  "language_info": {
   "codemirror_mode": {
    "name": "ipython",
    "version": 3
   },
   "file_extension": ".py",
   "mimetype": "text/x-python",
   "name": "python",
   "nbconvert_exporter": "python",
   "pygments_lexer": "ipython3",
   "version": "3.7.1"
  }
 },
 "nbformat": 4,
 "nbformat_minor": 5
}
