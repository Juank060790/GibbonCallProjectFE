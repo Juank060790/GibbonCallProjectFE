{
 "cells": [
  {
   "cell_type": "code",
   "execution_count": 1,
   "id": "musical-anatomy",
   "metadata": {},
   "outputs": [],
   "source": [
    "import pathlib \n",
    "import os\n",
    "import regex as re\n",
    "import librosa\n",
    "import pandas as pd \n",
    "import numpy as np"
   ]
  },
  {
   "cell_type": "code",
   "execution_count": 2,
   "id": "reflected-apparatus",
   "metadata": {},
   "outputs": [],
   "source": [
    "folder = \"Selection Tables\"\n",
    "labels = [str(file) for file in pathlib.Path(os.path.join(os.getcwd(), folder)).glob(\"*.txt\")]"
   ]
  },
  {
   "cell_type": "code",
   "execution_count": 3,
   "id": "beneficial-analyst",
   "metadata": {},
   "outputs": [],
   "source": [
    "keys = []\n",
    "\n",
    "for file in labels:\n",
    "    with open(file, \"r\") as f:\n",
    "        df = pd.read_csv(f, delimiter = \"\\t\")\n",
    "        unique_keys = df[\"Label\"].unique().tolist()\n",
    "        keys.extend(unique_keys)"
   ]
  },
  {
   "cell_type": "code",
   "execution_count": 4,
   "id": "thousand-satin",
   "metadata": {},
   "outputs": [
    {
     "name": "stdout",
     "output_type": "stream",
     "text": [
      "Unique keys: {nan, 'nothing', 'mm', 'other', 'sc', 'bird', 'human', 'insect', 'gc'}\n"
     ]
    }
   ],
   "source": [
    "print(f\"Unique keys: {set(keys)}\")"
   ]
  },
  {
   "cell_type": "code",
   "execution_count": 5,
   "id": "involved-specification",
   "metadata": {},
   "outputs": [
    {
     "data": {
      "text/html": [
       "<div>\n",
       "<style scoped>\n",
       "    .dataframe tbody tr th:only-of-type {\n",
       "        vertical-align: middle;\n",
       "    }\n",
       "\n",
       "    .dataframe tbody tr th {\n",
       "        vertical-align: top;\n",
       "    }\n",
       "\n",
       "    .dataframe thead th {\n",
       "        text-align: right;\n",
       "    }\n",
       "</style>\n",
       "<table border=\"1\" class=\"dataframe\">\n",
       "  <thead>\n",
       "    <tr style=\"text-align: right;\">\n",
       "      <th></th>\n",
       "      <th>Selection</th>\n",
       "      <th>View</th>\n",
       "      <th>Channel</th>\n",
       "      <th>Begin Time (s)</th>\n",
       "      <th>End Time (s)</th>\n",
       "      <th>Low Freq (Hz)</th>\n",
       "      <th>High Freq (Hz)</th>\n",
       "      <th>Begin File</th>\n",
       "      <th>Begin Path</th>\n",
       "      <th>Label</th>\n",
       "    </tr>\n",
       "  </thead>\n",
       "  <tbody>\n",
       "    <tr>\n",
       "      <th>0</th>\n",
       "      <td>1</td>\n",
       "      <td>Spectrogram 1</td>\n",
       "      <td>1</td>\n",
       "      <td>7.158055</td>\n",
       "      <td>7.858694</td>\n",
       "      <td>2998.7</td>\n",
       "      <td>3740.0</td>\n",
       "      <td>20200929_033839.WAV</td>\n",
       "      <td>D:\\Fauna &amp; Flora International\\VietnamAudioSto...</td>\n",
       "      <td>bird</td>\n",
       "    </tr>\n",
       "    <tr>\n",
       "      <th>1</th>\n",
       "      <td>2</td>\n",
       "      <td>Spectrogram 1</td>\n",
       "      <td>1</td>\n",
       "      <td>10.526513</td>\n",
       "      <td>11.065466</td>\n",
       "      <td>3508.3</td>\n",
       "      <td>4172.4</td>\n",
       "      <td>20200929_033839.WAV</td>\n",
       "      <td>D:\\Fauna &amp; Flora International\\VietnamAudioSto...</td>\n",
       "      <td>bird</td>\n",
       "    </tr>\n",
       "    <tr>\n",
       "      <th>2</th>\n",
       "      <td>3</td>\n",
       "      <td>Spectrogram 1</td>\n",
       "      <td>1</td>\n",
       "      <td>30.721690</td>\n",
       "      <td>31.031588</td>\n",
       "      <td>6652.3</td>\n",
       "      <td>7810.6</td>\n",
       "      <td>20200929_033839.WAV</td>\n",
       "      <td>D:\\Fauna &amp; Flora International\\VietnamAudioSto...</td>\n",
       "      <td>bird</td>\n",
       "    </tr>\n",
       "    <tr>\n",
       "      <th>3</th>\n",
       "      <td>4</td>\n",
       "      <td>Spectrogram 1</td>\n",
       "      <td>1</td>\n",
       "      <td>34.642574</td>\n",
       "      <td>34.898577</td>\n",
       "      <td>6714.1</td>\n",
       "      <td>7733.4</td>\n",
       "      <td>20200929_033839.WAV</td>\n",
       "      <td>D:\\Fauna &amp; Flora International\\VietnamAudioSto...</td>\n",
       "      <td>bird</td>\n",
       "    </tr>\n",
       "    <tr>\n",
       "      <th>4</th>\n",
       "      <td>5</td>\n",
       "      <td>Spectrogram 1</td>\n",
       "      <td>1</td>\n",
       "      <td>24.833626</td>\n",
       "      <td>25.130050</td>\n",
       "      <td>6853.1</td>\n",
       "      <td>7872.4</td>\n",
       "      <td>20200929_033839.WAV</td>\n",
       "      <td>D:\\Fauna &amp; Flora International\\VietnamAudioSto...</td>\n",
       "      <td>bird</td>\n",
       "    </tr>\n",
       "  </tbody>\n",
       "</table>\n",
       "</div>"
      ],
      "text/plain": [
       "   Selection           View  Channel  Begin Time (s)  End Time (s)  \\\n",
       "0          1  Spectrogram 1        1        7.158055      7.858694   \n",
       "1          2  Spectrogram 1        1       10.526513     11.065466   \n",
       "2          3  Spectrogram 1        1       30.721690     31.031588   \n",
       "3          4  Spectrogram 1        1       34.642574     34.898577   \n",
       "4          5  Spectrogram 1        1       24.833626     25.130050   \n",
       "\n",
       "   Low Freq (Hz)  High Freq (Hz)           Begin File  \\\n",
       "0         2998.7          3740.0  20200929_033839.WAV   \n",
       "1         3508.3          4172.4  20200929_033839.WAV   \n",
       "2         6652.3          7810.6  20200929_033839.WAV   \n",
       "3         6714.1          7733.4  20200929_033839.WAV   \n",
       "4         6853.1          7872.4  20200929_033839.WAV   \n",
       "\n",
       "                                          Begin Path Label  \n",
       "0  D:\\Fauna & Flora International\\VietnamAudioSto...  bird  \n",
       "1  D:\\Fauna & Flora International\\VietnamAudioSto...  bird  \n",
       "2  D:\\Fauna & Flora International\\VietnamAudioSto...  bird  \n",
       "3  D:\\Fauna & Flora International\\VietnamAudioSto...  bird  \n",
       "4  D:\\Fauna & Flora International\\VietnamAudioSto...  bird  "
      ]
     },
     "execution_count": 5,
     "metadata": {},
     "output_type": "execute_result"
    }
   ],
   "source": [
    "df.head()"
   ]
  },
  {
   "cell_type": "markdown",
   "id": "functioning-experience",
   "metadata": {},
   "source": [
    "# Extracting path with 1 file"
   ]
  },
  {
   "cell_type": "code",
   "execution_count": 6,
   "id": "conscious-coordination",
   "metadata": {},
   "outputs": [],
   "source": [
    "with open(labels[0], \"r\") as file:\n",
    "    df = pd.read_csv(file, delimiter = \"\\t\")"
   ]
  },
  {
   "cell_type": "code",
   "execution_count": 7,
   "id": "thrown-alpha",
   "metadata": {},
   "outputs": [
    {
     "name": "stdout",
     "output_type": "stream",
     "text": [
      "D:\\Fauna & Flora International\\VietnamAudioStorage - Root\\Trung Khanh\\2020 Survey\\Raw Audio Files\\Phase 2 (Deployed - September to October)\\D1\\01\\01b\\20200929_032722.WAV\n"
     ]
    }
   ],
   "source": [
    "sample_path = df[\"Begin Path\"][0]\n",
    "print(sample_path)"
   ]
  },
  {
   "cell_type": "code",
   "execution_count": 8,
   "id": "liquid-progressive",
   "metadata": {},
   "outputs": [
    {
     "name": "stdout",
     "output_type": "stream",
     "text": [
      "Relative path:  Raw Audio Files\\Phase 2 (Deployed - September to October)\\D1\\01\\01b\\20200929_032722.WAV\n",
      "Absolute path:  D:\\developer\\python\\gibbon\\Raw Audio Files\\Phase 2 (September to October 2020)\\D1\\01\\01b\\20200929_032722.WAV\n"
     ]
    }
   ],
   "source": [
    "# Current path does not match with audio file name\n",
    "relative_path = re.findall(\"Raw Audio Files.+\", sample_path)[0]\n",
    "print(\"Relative path: \", relative_path)\n",
    "\n",
    "# Fixed path and join current working directory\n",
    "absolute_path = os.path.join(os.getcwd(), re.sub(\"\\((.)*\\)\", \"(September to October 2020)\", relative_path))\n",
    "print(\"Absolute path: \", absolute_path)"
   ]
  },
  {
   "cell_type": "markdown",
   "id": "canadian-preference",
   "metadata": {},
   "source": [
    "# Load audio"
   ]
  },
  {
   "cell_type": "code",
   "execution_count": 9,
   "id": "parliamentary-undergraduate",
   "metadata": {},
   "outputs": [],
   "source": [
    "def readLabels(path: str, sample_rate: int):\n",
    "    \n",
    "    def convertPath(path: str):\n",
    "        relative_path = re.findall(\"Raw Audio Files.+\", path)[0]\n",
    "        return os.path.join(os.getcwd(), re.sub(\"\\((.)*\\)\", \"(September to October 2020)\", relative_path))\n",
    "    \n",
    "    df = pd.read_csv(path, delimiter = \"\\t\")\n",
    "    df[\"Begin Path\"] = df[\"Begin Path\"].apply(convertPath)\n",
    "    \n",
    "    df.drop(columns = [\"Selection\", \"View\", \"Channel\", \"Begin File\"], inplace = True)\n",
    "    \n",
    "    df.columns = [\"Start\", \"End\", \"Low\", \"Height\", \"Path\", \"Label\"]\n",
    "    \n",
    "    df[\"Start\"] = df[\"Start\"] * sample_rate\n",
    "    df[\"End\"] = df[\"End\"] * sample_rate\n",
    "    return df"
   ]
  },
  {
   "cell_type": "code",
   "execution_count": 10,
   "id": "experienced-workstation",
   "metadata": {},
   "outputs": [],
   "source": [
    "test = readLabels(labels[0], 4800)"
   ]
  },
  {
   "cell_type": "code",
   "execution_count": 17,
   "id": "minus-invasion",
   "metadata": {},
   "outputs": [],
   "source": [
    "alpha = 10\n",
    "jump_seconds = 1\n",
    "sample_rate = 4800\n",
    "\n",
    "alpha_converted = alpha * sample_rate\n",
    "\n",
    "extracted = []"
   ]
  },
  {
   "cell_type": "code",
   "execution_count": 22,
   "id": "liked-bracket",
   "metadata": {},
   "outputs": [],
   "source": [
    "audio, _ = librosa.load(absolute_path, sr = sample_rate)"
   ]
  },
  {
   "cell_type": "code",
   "execution_count": 25,
   "id": "korean-benjamin",
   "metadata": {},
   "outputs": [
    {
     "data": {
      "text/plain": [
       "numpy.ndarray"
      ]
     },
     "execution_count": 25,
     "metadata": {},
     "output_type": "execute_result"
    }
   ],
   "source": [
    "type(audio)"
   ]
  },
  {
   "cell_type": "code",
   "execution_count": 155,
   "id": "thousand-biotechnology",
   "metadata": {
    "tags": []
   },
   "outputs": [
    {
     "name": "stdout",
     "output_type": "stream",
     "text": [
      "Original start: 1293.4877472, New start: -3506.5122528\n",
      "Original end: 18884.9210736, New end: 44493.4877472\n",
      "\n",
      "\n",
      "Original start: 1293.4877472, New start: -8306.5122528\n",
      "Original end: 18884.9210736, New end: 39693.4877472\n",
      "\n",
      "\n",
      "Original start: 1293.4877472, New start: -13106.5122528\n",
      "Original end: 18884.9210736, New end: 34893.4877472\n",
      "\n",
      "\n",
      "Original start: 1293.4877472, New start: -17906.5122528\n",
      "Original end: 18884.9210736, New end: 30093.4877472\n",
      "\n",
      "\n",
      "Original start: 1293.4877472, New start: -22706.5122528\n",
      "Original end: 18884.9210736, New end: 25293.4877472\n",
      "\n",
      "\n",
      "Original start: 1293.4877472, New start: -27506.5122528\n",
      "Original end: 18884.9210736, New end: 20493.4877472\n",
      "\n",
      "\n",
      "Original start: 1293.4877472, New start: -32306.5122528\n",
      "Original end: 18884.9210736, New end: 15693.4877472\n",
      "\n",
      "\n"
     ]
    }
   ],
   "source": [
    "for index, row in test.iterrows():\n",
    "    jump = 0\n",
    "    \n",
    "    while True:\n",
    "        start_position = row[\"Start\"] - sample_rate - (jump * jump_seconds * sample_rate)\n",
    "        end_position = start_position + alpha_converted\n",
    "        \n",
    "        print(f\"Original start: {row['Start']}, New start: {start_position}\")\n",
    "        print(f\"Original end: {row['End']}, New end: {end_position}\")\n",
    "        print(\"\\n\")\n",
    "        \n",
    "        jump += 1\n",
    "        \n",
    "        if end_position <= row[\"End\"]:\n",
    "            break\n",
    "        extracted.append(audio[int(start_position):int(end_position)])\n",
    "    break"
   ]
  },
  {
   "cell_type": "code",
   "execution_count": 119,
   "id": "approved-alias",
   "metadata": {},
   "outputs": [],
   "source": [
    "array = np.asarray(extracted, dtype = \"object\")"
   ]
  }
 ],
 "metadata": {
  "kernelspec": {
   "display_name": "gibbon",
   "language": "python",
   "name": "gibbon"
  },
  "language_info": {
   "codemirror_mode": {
    "name": "ipython",
    "version": 3
   },
   "file_extension": ".py",
   "mimetype": "text/x-python",
   "name": "python",
   "nbconvert_exporter": "python",
   "pygments_lexer": "ipython3",
   "version": "3.7.1"
  }
 },
 "nbformat": 4,
 "nbformat_minor": 5
}
