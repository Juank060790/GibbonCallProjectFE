{
 "cells": [
  {
   "cell_type": "code",
   "execution_count": 39,
   "id": "strong-israel",
   "metadata": {},
   "outputs": [],
   "source": [
    "import pandas as pd \n",
    "import matplotlib.pyplot as plt \n",
    "import pathlib\n",
    "import os \n",
    "import regex as re \n",
    "\n",
    "%matplotlib inline "
   ]
  },
  {
   "cell_type": "markdown",
   "id": "hungry-disposal",
   "metadata": {},
   "source": [
    "## Loading label data"
   ]
  },
  {
   "cell_type": "code",
   "execution_count": 27,
   "id": "configured-chair",
   "metadata": {},
   "outputs": [],
   "source": [
    "folder = \"Selection Tables\"\n",
    "files = [str(file) for file in pathlib.Path(os.path.join(os.getcwd(), folder)).glob(\"*.txt\")]"
   ]
  },
  {
   "cell_type": "code",
   "execution_count": 28,
   "id": "latter-population",
   "metadata": {},
   "outputs": [],
   "source": [
    "# Quick way to extract the columns of a dataframe. \n",
    "with open(files[0], \"r\") as file:\n",
    "    df = pd.read_csv(file, delimiter = \"\\t\")\n",
    "\n",
    "columns = [column for column in df.columns]"
   ]
  },
  {
   "cell_type": "code",
   "execution_count": 29,
   "id": "severe-computer",
   "metadata": {},
   "outputs": [],
   "source": [
    "df = pd.DataFrame(columns = columns)"
   ]
  },
  {
   "cell_type": "code",
   "execution_count": 30,
   "id": "present-class",
   "metadata": {},
   "outputs": [],
   "source": [
    "for file in files:\n",
    "    with open(file, \"r\") as f:\n",
    "        tmp_df = pd.read_csv(f, delimiter = \"\\t\")\n",
    "        df = pd.concat([df, tmp_df], axis = 0)\n"
   ]
  },
  {
   "cell_type": "code",
   "execution_count": 33,
   "id": "partial-ribbon",
   "metadata": {},
   "outputs": [],
   "source": [
    "df.drop(columns = [\"Selection\", \"View\", \"Channel\", \"Begin File\"], inplace = True)"
   ]
  },
  {
   "cell_type": "code",
   "execution_count": 35,
   "id": "photographic-flour",
   "metadata": {},
   "outputs": [
    {
     "data": {
      "text/html": [
       "<div>\n",
       "<style scoped>\n",
       "    .dataframe tbody tr th:only-of-type {\n",
       "        vertical-align: middle;\n",
       "    }\n",
       "\n",
       "    .dataframe tbody tr th {\n",
       "        vertical-align: top;\n",
       "    }\n",
       "\n",
       "    .dataframe thead th {\n",
       "        text-align: right;\n",
       "    }\n",
       "</style>\n",
       "<table border=\"1\" class=\"dataframe\">\n",
       "  <thead>\n",
       "    <tr style=\"text-align: right;\">\n",
       "      <th></th>\n",
       "      <th>Start</th>\n",
       "      <th>End</th>\n",
       "      <th>Low</th>\n",
       "      <th>High</th>\n",
       "      <th>Path</th>\n",
       "      <th>Label</th>\n",
       "    </tr>\n",
       "  </thead>\n",
       "  <tbody>\n",
       "    <tr>\n",
       "      <th>0</th>\n",
       "      <td>0.269477</td>\n",
       "      <td>3.934359</td>\n",
       "      <td>1002.4</td>\n",
       "      <td>1806.2</td>\n",
       "      <td>D:\\Fauna &amp; Flora International\\VietnamAudioSto...</td>\n",
       "      <td>bird</td>\n",
       "    </tr>\n",
       "    <tr>\n",
       "      <th>1</th>\n",
       "      <td>8.299880</td>\n",
       "      <td>11.264122</td>\n",
       "      <td>1091.7</td>\n",
       "      <td>1667.3</td>\n",
       "      <td>D:\\Fauna &amp; Flora International\\VietnamAudioSto...</td>\n",
       "      <td>mm</td>\n",
       "    </tr>\n",
       "    <tr>\n",
       "      <th>2</th>\n",
       "      <td>21.679146</td>\n",
       "      <td>23.296005</td>\n",
       "      <td>1240.5</td>\n",
       "      <td>1578.0</td>\n",
       "      <td>D:\\Fauna &amp; Flora International\\VietnamAudioSto...</td>\n",
       "      <td>bird</td>\n",
       "    </tr>\n",
       "    <tr>\n",
       "      <th>3</th>\n",
       "      <td>29.170596</td>\n",
       "      <td>32.619896</td>\n",
       "      <td>1111.5</td>\n",
       "      <td>1647.4</td>\n",
       "      <td>D:\\Fauna &amp; Flora International\\VietnamAudioSto...</td>\n",
       "      <td>mm</td>\n",
       "    </tr>\n",
       "    <tr>\n",
       "      <th>4</th>\n",
       "      <td>26.960887</td>\n",
       "      <td>27.877108</td>\n",
       "      <td>1220.7</td>\n",
       "      <td>1439.0</td>\n",
       "      <td>D:\\Fauna &amp; Flora International\\VietnamAudioSto...</td>\n",
       "      <td>other</td>\n",
       "    </tr>\n",
       "  </tbody>\n",
       "</table>\n",
       "</div>"
      ],
      "text/plain": [
       "       Start        End     Low    High  \\\n",
       "0   0.269477   3.934359  1002.4  1806.2   \n",
       "1   8.299880  11.264122  1091.7  1667.3   \n",
       "2  21.679146  23.296005  1240.5  1578.0   \n",
       "3  29.170596  32.619896  1111.5  1647.4   \n",
       "4  26.960887  27.877108  1220.7  1439.0   \n",
       "\n",
       "                                                Path  Label  \n",
       "0  D:\\Fauna & Flora International\\VietnamAudioSto...   bird  \n",
       "1  D:\\Fauna & Flora International\\VietnamAudioSto...     mm  \n",
       "2  D:\\Fauna & Flora International\\VietnamAudioSto...   bird  \n",
       "3  D:\\Fauna & Flora International\\VietnamAudioSto...     mm  \n",
       "4  D:\\Fauna & Flora International\\VietnamAudioSto...  other  "
      ]
     },
     "execution_count": 35,
     "metadata": {},
     "output_type": "execute_result"
    }
   ],
   "source": [
    "df.columns = [\"Start\", \"End\", \"Low\", \"High\", \"Path\", \"Label\"]\n",
    "df.head()"
   ]
  },
  {
   "cell_type": "code",
   "execution_count": 40,
   "id": "willing-lodging",
   "metadata": {},
   "outputs": [],
   "source": [
    "# Copied from helper/extract.py\n",
    "def convertPath(path: str):\n",
    "    '''\n",
    "    * Purpose: Convert a path to absolute path.\n",
    "    '''\n",
    "    relative_path = re.findall(\"Raw Audio Files.+\", path)[0]\n",
    "    return os.path.join(os.getcwd(), re.sub(\"\\((.)*\\)\", \n",
    "                    \"(September to October 2020)\", relative_path))\n",
    "\n",
    "df[\"Path\"] = df[\"Path\"].apply(convertPath)"
   ]
  },
  {
   "cell_type": "code",
   "execution_count": null,
   "id": "renewable-roberts",
   "metadata": {},
   "outputs": [],
   "source": []
  }
 ],
 "metadata": {
  "kernelspec": {
   "display_name": "gibbon",
   "language": "python",
   "name": "gibbon"
  },
  "language_info": {
   "codemirror_mode": {
    "name": "ipython",
    "version": 3
   },
   "file_extension": ".py",
   "mimetype": "text/x-python",
   "name": "python",
   "nbconvert_exporter": "python",
   "pygments_lexer": "ipython3",
   "version": "3.7.1"
  }
 },
 "nbformat": 4,
 "nbformat_minor": 5
}
