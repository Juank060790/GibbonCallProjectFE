{
 "cells": [
  {
   "cell_type": "code",
   "execution_count": 1,
   "id": "recorded-juice",
   "metadata": {},
   "outputs": [],
   "source": [
    "import pandas as pd \n",
    "import matplotlib.pyplot as plt \n",
    "import pathlib\n",
    "import os \n",
    "import regex as re \n",
    "import numpy as np \n",
    "import shutil \n",
    "\n",
    "%matplotlib inline "
   ]
  },
  {
   "cell_type": "markdown",
   "id": "asian-architecture",
   "metadata": {},
   "source": [
    "## Analyzing research paper data"
   ]
  },
  {
   "cell_type": "code",
   "execution_count": 169,
   "id": "located-gross",
   "metadata": {},
   "outputs": [],
   "source": [
    "research = \"research_paper/Train_Labels\"\n",
    "research_files = [str(file) for file in pathlib.Path(os.path.join(os.getcwd(), research)).glob(\"*.data\")]"
   ]
  },
  {
   "cell_type": "code",
   "execution_count": 170,
   "id": "controlling-liberia",
   "metadata": {},
   "outputs": [
    {
     "data": {
      "text/plain": [
       "<regex.Match object; span=(55, 89), match='g_HGSM3AC_0+1_20160309_055600.data'>"
      ]
     },
     "execution_count": 170,
     "metadata": {},
     "output_type": "execute_result"
    }
   ],
   "source": [
    "# Files containing gibbon call starts with g_\n",
    "re.search(\"g_.+\\.data\", research_files[0])"
   ]
  },
  {
   "cell_type": "code",
   "execution_count": 14,
   "id": "seventh-discharge",
   "metadata": {},
   "outputs": [],
   "source": [
    "with open(research_files[0], \"r\") as f:\n",
    "    research_df = pd.read_csv(f)\n",
    "\n",
    "research_columns = research_df.columns"
   ]
  },
  {
   "cell_type": "code",
   "execution_count": 15,
   "id": "french-satin",
   "metadata": {},
   "outputs": [
    {
     "data": {
      "text/html": [
       "<div>\n",
       "<style scoped>\n",
       "    .dataframe tbody tr th:only-of-type {\n",
       "        vertical-align: middle;\n",
       "    }\n",
       "\n",
       "    .dataframe tbody tr th {\n",
       "        vertical-align: top;\n",
       "    }\n",
       "\n",
       "    .dataframe thead th {\n",
       "        text-align: right;\n",
       "    }\n",
       "</style>\n",
       "<table border=\"1\" class=\"dataframe\">\n",
       "  <thead>\n",
       "    <tr style=\"text-align: right;\">\n",
       "      <th></th>\n",
       "      <th>Start</th>\n",
       "      <th>End</th>\n",
       "      <th>Duration</th>\n",
       "      <th>Type</th>\n",
       "      <th>Notes</th>\n",
       "    </tr>\n",
       "  </thead>\n",
       "  <tbody>\n",
       "  </tbody>\n",
       "</table>\n",
       "</div>"
      ],
      "text/plain": [
       "Empty DataFrame\n",
       "Columns: [Start, End, Duration, Type, Notes]\n",
       "Index: []"
      ]
     },
     "execution_count": 15,
     "metadata": {},
     "output_type": "execute_result"
    }
   ],
   "source": [
    "research_df = pd.DataFrame(columns = research_columns)\n",
    "research_df"
   ]
  },
  {
   "cell_type": "code",
   "execution_count": 16,
   "id": "transparent-outreach",
   "metadata": {},
   "outputs": [],
   "source": [
    "for file in research_files:\n",
    "    if re.search(\"g_.+\\.data\", file):\n",
    "        with open(file, \"r\") as f:\n",
    "            tmp_research = pd.read_csv(f)\n",
    "            research_df = pd.concat([research_df, tmp_research], axis = 0)"
   ]
  },
  {
   "cell_type": "code",
   "execution_count": 17,
   "id": "gross-architecture",
   "metadata": {},
   "outputs": [],
   "source": [
    "# Similar to source code\n",
    "research_df.Notes.fillna(research_df.Type.astype(str), inplace = True)\n",
    "research_df[\"Notes\"] = research_df.Notes.str.extract(\"(\\d+)\")\n",
    "research_df.drop([\"Type\"], axis = 1, inplace = True)"
   ]
  },
  {
   "cell_type": "code",
   "execution_count": 18,
   "id": "suburban-shipping",
   "metadata": {},
   "outputs": [
    {
     "name": "stdout",
     "output_type": "stream",
     "text": [
      "Research paper's max duration: 8s\n",
      "Research paper's min duration: -4s\n"
     ]
    }
   ],
   "source": [
    "print(f\"Research paper's max duration: {max(research_df['Duration'].tolist())}s\")\n",
    "print(f\"Research paper's min duration: {min(research_df['Duration'].tolist())}s\")"
   ]
  },
  {
   "cell_type": "code",
   "execution_count": 19,
   "id": "natural-gathering",
   "metadata": {},
   "outputs": [
    {
     "data": {
      "image/png": "[encoded data removed]",
      "text/plain": [
       "<Figure size 720x504 with 1 Axes>"
      ]
     },
     "metadata": {
      "needs_background": "light"
     },
     "output_type": "display_data"
    }
   ],
   "source": [
    "plt.figure(figsize = (10, 7))\n",
    "plt.hist(research_df[\"Duration\"].tolist())\n",
    "plt.ylabel(\"count\")\n",
    "plt.xlabel(\"duration\")\n",
    "plt.show()"
   ]
  },
  {
   "cell_type": "markdown",
   "id": "formed-apartment",
   "metadata": {},
   "source": [
    "## Loading label data"
   ]
  },
  {
   "cell_type": "code",
   "execution_count": 100,
   "id": "previous-inventory",
   "metadata": {},
   "outputs": [],
   "source": [
    "folder = \"Selection Tables\"\n",
    "files = [str(file) for file in pathlib.Path(os.path.join(os.getcwd(), folder)).glob(\"*.txt\")]"
   ]
  },
  {
   "cell_type": "code",
   "execution_count": 101,
   "id": "australian-alias",
   "metadata": {},
   "outputs": [],
   "source": [
    "# Quick way to extract the columns of a dataframe. \n",
    "with open(files[0], \"r\") as file:\n",
    "    df = pd.read_csv(file, delimiter = \"\\t\")\n",
    "\n",
    "columns = [column for column in df.columns]"
   ]
  },
  {
   "cell_type": "code",
   "execution_count": 102,
   "id": "apart-visibility",
   "metadata": {},
   "outputs": [],
   "source": [
    "df = pd.DataFrame(columns = columns)"
   ]
  },
  {
   "cell_type": "code",
   "execution_count": 103,
   "id": "young-integrity",
   "metadata": {},
   "outputs": [],
   "source": [
    "for file in files:\n",
    "    with open(file, \"r\") as f:\n",
    "        tmp_df = pd.read_csv(f, delimiter = \"\\t\")\n",
    "        df = pd.concat([df, tmp_df], axis = 0)"
   ]
  },
  {
   "cell_type": "code",
   "execution_count": 104,
   "id": "forbidden-davis",
   "metadata": {},
   "outputs": [],
   "source": [
    "df.drop(columns = [\"Selection\", \"View\", \"Channel\"], inplace = True)"
   ]
  },
  {
   "cell_type": "code",
   "execution_count": 105,
   "id": "separated-credits",
   "metadata": {},
   "outputs": [
    {
     "data": {
      "text/html": [
       "<div>\n",
       "<style scoped>\n",
       "    .dataframe tbody tr th:only-of-type {\n",
       "        vertical-align: middle;\n",
       "    }\n",
       "\n",
       "    .dataframe tbody tr th {\n",
       "        vertical-align: top;\n",
       "    }\n",
       "\n",
       "    .dataframe thead th {\n",
       "        text-align: right;\n",
       "    }\n",
       "</style>\n",
       "<table border=\"1\" class=\"dataframe\">\n",
       "  <thead>\n",
       "    <tr style=\"text-align: right;\">\n",
       "      <th></th>\n",
       "      <th>Start</th>\n",
       "      <th>End</th>\n",
       "      <th>Low</th>\n",
       "      <th>High</th>\n",
       "      <th>Begin File</th>\n",
       "      <th>Path</th>\n",
       "      <th>Label</th>\n",
       "    </tr>\n",
       "  </thead>\n",
       "  <tbody>\n",
       "    <tr>\n",
       "      <th>0</th>\n",
       "      <td>0.269477</td>\n",
       "      <td>3.934359</td>\n",
       "      <td>1002.4</td>\n",
       "      <td>1806.2</td>\n",
       "      <td>20200929_032722.WAV</td>\n",
       "      <td>D:\\Fauna &amp; Flora International\\VietnamAudioSto...</td>\n",
       "      <td>bird</td>\n",
       "    </tr>\n",
       "    <tr>\n",
       "      <th>1</th>\n",
       "      <td>8.299880</td>\n",
       "      <td>11.264122</td>\n",
       "      <td>1091.7</td>\n",
       "      <td>1667.3</td>\n",
       "      <td>20200929_032722.WAV</td>\n",
       "      <td>D:\\Fauna &amp; Flora International\\VietnamAudioSto...</td>\n",
       "      <td>mm</td>\n",
       "    </tr>\n",
       "    <tr>\n",
       "      <th>2</th>\n",
       "      <td>21.679146</td>\n",
       "      <td>23.296005</td>\n",
       "      <td>1240.5</td>\n",
       "      <td>1578.0</td>\n",
       "      <td>20200929_032722.WAV</td>\n",
       "      <td>D:\\Fauna &amp; Flora International\\VietnamAudioSto...</td>\n",
       "      <td>bird</td>\n",
       "    </tr>\n",
       "    <tr>\n",
       "      <th>3</th>\n",
       "      <td>29.170596</td>\n",
       "      <td>32.619896</td>\n",
       "      <td>1111.5</td>\n",
       "      <td>1647.4</td>\n",
       "      <td>20200929_032722.WAV</td>\n",
       "      <td>D:\\Fauna &amp; Flora International\\VietnamAudioSto...</td>\n",
       "      <td>mm</td>\n",
       "    </tr>\n",
       "    <tr>\n",
       "      <th>4</th>\n",
       "      <td>26.960887</td>\n",
       "      <td>27.877108</td>\n",
       "      <td>1220.7</td>\n",
       "      <td>1439.0</td>\n",
       "      <td>20200929_032722.WAV</td>\n",
       "      <td>D:\\Fauna &amp; Flora International\\VietnamAudioSto...</td>\n",
       "      <td>other</td>\n",
       "    </tr>\n",
       "  </tbody>\n",
       "</table>\n",
       "</div>"
      ],
      "text/plain": [
       "       Start        End     Low    High           Begin File  \\\n",
       "0   0.269477   3.934359  1002.4  1806.2  20200929_032722.WAV   \n",
       "1   8.299880  11.264122  1091.7  1667.3  20200929_032722.WAV   \n",
       "2  21.679146  23.296005  1240.5  1578.0  20200929_032722.WAV   \n",
       "3  29.170596  32.619896  1111.5  1647.4  20200929_032722.WAV   \n",
       "4  26.960887  27.877108  1220.7  1439.0  20200929_032722.WAV   \n",
       "\n",
       "                                                Path  Label  \n",
       "0  D:\\Fauna & Flora International\\VietnamAudioSto...   bird  \n",
       "1  D:\\Fauna & Flora International\\VietnamAudioSto...     mm  \n",
       "2  D:\\Fauna & Flora International\\VietnamAudioSto...   bird  \n",
       "3  D:\\Fauna & Flora International\\VietnamAudioSto...     mm  \n",
       "4  D:\\Fauna & Flora International\\VietnamAudioSto...  other  "
      ]
     },
     "execution_count": 105,
     "metadata": {},
     "output_type": "execute_result"
    }
   ],
   "source": [
    "df.columns = [\"Start\", \"End\", \"Low\", \"High\", \"Begin File\", \"Path\", \"Label\"]\n",
    "df.head()"
   ]
  },
  {
   "cell_type": "code",
   "execution_count": 106,
   "id": "weighted-grant",
   "metadata": {},
   "outputs": [],
   "source": [
    "def find(x):\n",
    "    folder = re.findall(r\"\\\\(\\w\\d)\", x)[0]\n",
    "    return folder"
   ]
  },
  {
   "cell_type": "code",
   "execution_count": 107,
   "id": "clean-venice",
   "metadata": {},
   "outputs": [],
   "source": [
    "# Copied from helper/extract.py\n",
    "def convertPath(path: str):\n",
    "    '''\n",
    "    * Purpose: Convert a path to absolute path.\n",
    "    '''\n",
    "    relative_path = re.findall(\"Raw Audio Files.+\", path)[0]\n",
    "    return os.path.join(os.getcwd(), re.sub(\"\\((.)*\\)\", \n",
    "                    \"(September to October 2020)\", relative_path))\n",
    "\n",
    "df[\"Path\"] = df[\"Path\"].apply(convertPath)"
   ]
  },
  {
   "cell_type": "code",
   "execution_count": 108,
   "id": "great-texture",
   "metadata": {
    "tags": []
   },
   "outputs": [],
   "source": [
    "df[\"Folder\"] = df[\"Path\"].apply(find)"
   ]
  },
  {
   "cell_type": "code",
   "execution_count": 109,
   "id": "broken-puppy",
   "metadata": {},
   "outputs": [],
   "source": [
    "df[\"Type\"] = df[\"Label\"].apply(lambda x: 1 if x in [\"sc\", \"mm\", \"gc\"] else 0)"
   ]
  },
  {
   "cell_type": "code",
   "execution_count": 110,
   "id": "cubic-visitor",
   "metadata": {},
   "outputs": [
    {
     "data": {
      "text/plain": [
       "D1    2161\n",
       "D9    1832\n",
       "D4     856\n",
       "D3     811\n",
       "D7     699\n",
       "D2     683\n",
       "D8     504\n",
       "D5      34\n",
       "D6      22\n",
       "Name: Folder, dtype: int64"
      ]
     },
     "execution_count": 110,
     "metadata": {},
     "output_type": "execute_result"
    }
   ],
   "source": [
    "df[\"Folder\"].value_counts()"
   ]
  },
  {
   "cell_type": "markdown",
   "id": "absolute-cleanup",
   "metadata": {},
   "source": [
    "Here I will copy out 5 files for testing."
   ]
  },
  {
   "cell_type": "code",
   "execution_count": null,
   "id": "outstanding-maria",
   "metadata": {},
   "outputs": [],
   "source": [
    "df.rename(columns = {\"Begin File\": \"File\"}, inplace = True)"
   ]
  },
  {
   "cell_type": "code",
   "execution_count": 123,
   "id": "ethical-knight",
   "metadata": {},
   "outputs": [],
   "source": [
    "test_files = df[df[\"Folder\"] == \"D9\"][\"File\"].unique()\n",
    "test_files = np.random.choice(test_files, 5).tolist()"
   ]
  },
  {
   "cell_type": "code",
   "execution_count": 124,
   "id": "pretty-kennedy",
   "metadata": {},
   "outputs": [],
   "source": [
    "test_df = df.query(\"File.isin(@test_files)\")"
   ]
  },
  {
   "cell_type": "code",
   "execution_count": 126,
   "id": "included-auction",
   "metadata": {},
   "outputs": [
    {
     "data": {
      "text/html": [
       "<div>\n",
       "<style scoped>\n",
       "    .dataframe tbody tr th:only-of-type {\n",
       "        vertical-align: middle;\n",
       "    }\n",
       "\n",
       "    .dataframe tbody tr th {\n",
       "        vertical-align: top;\n",
       "    }\n",
       "\n",
       "    .dataframe thead th {\n",
       "        text-align: right;\n",
       "    }\n",
       "</style>\n",
       "<table border=\"1\" class=\"dataframe\">\n",
       "  <thead>\n",
       "    <tr style=\"text-align: right;\">\n",
       "      <th></th>\n",
       "      <th>Start</th>\n",
       "      <th>End</th>\n",
       "      <th>Low</th>\n",
       "      <th>High</th>\n",
       "      <th>File</th>\n",
       "      <th>Path</th>\n",
       "      <th>Label</th>\n",
       "      <th>Folder</th>\n",
       "      <th>Type</th>\n",
       "    </tr>\n",
       "  </thead>\n",
       "  <tbody>\n",
       "    <tr>\n",
       "      <th>0</th>\n",
       "      <td>3.978413</td>\n",
       "      <td>6.605667</td>\n",
       "      <td>1264.0</td>\n",
       "      <td>1488.6</td>\n",
       "      <td>20200926_033000.WAV</td>\n",
       "      <td>D:\\developer\\python\\gibbon\\Raw Audio Files\\Pha...</td>\n",
       "      <td>mm</td>\n",
       "      <td>D9</td>\n",
       "      <td>1</td>\n",
       "    </tr>\n",
       "    <tr>\n",
       "      <th>1</th>\n",
       "      <td>22.969706</td>\n",
       "      <td>26.422668</td>\n",
       "      <td>1247.4</td>\n",
       "      <td>1488.6</td>\n",
       "      <td>20200926_033000.WAV</td>\n",
       "      <td>D:\\developer\\python\\gibbon\\Raw Audio Files\\Pha...</td>\n",
       "      <td>mm</td>\n",
       "      <td>D9</td>\n",
       "      <td>1</td>\n",
       "    </tr>\n",
       "    <tr>\n",
       "      <th>2</th>\n",
       "      <td>34.754817</td>\n",
       "      <td>38.207779</td>\n",
       "      <td>1289.0</td>\n",
       "      <td>1496.9</td>\n",
       "      <td>20200926_033000.WAV</td>\n",
       "      <td>D:\\developer\\python\\gibbon\\Raw Audio Files\\Pha...</td>\n",
       "      <td>mm</td>\n",
       "      <td>D9</td>\n",
       "      <td>1</td>\n",
       "    </tr>\n",
       "    <tr>\n",
       "      <th>3</th>\n",
       "      <td>44.888510</td>\n",
       "      <td>48.641730</td>\n",
       "      <td>1230.8</td>\n",
       "      <td>1463.6</td>\n",
       "      <td>20200926_033000.WAV</td>\n",
       "      <td>D:\\developer\\python\\gibbon\\Raw Audio Files\\Pha...</td>\n",
       "      <td>mm</td>\n",
       "      <td>D9</td>\n",
       "      <td>1</td>\n",
       "    </tr>\n",
       "    <tr>\n",
       "      <th>4</th>\n",
       "      <td>56.373363</td>\n",
       "      <td>59.826326</td>\n",
       "      <td>1239.1</td>\n",
       "      <td>1471.9</td>\n",
       "      <td>20200926_033000.WAV</td>\n",
       "      <td>D:\\developer\\python\\gibbon\\Raw Audio Files\\Pha...</td>\n",
       "      <td>mm</td>\n",
       "      <td>D9</td>\n",
       "      <td>1</td>\n",
       "    </tr>\n",
       "  </tbody>\n",
       "</table>\n",
       "</div>"
      ],
      "text/plain": [
       "       Start        End     Low    High                 File  \\\n",
       "0   3.978413   6.605667  1264.0  1488.6  20200926_033000.WAV   \n",
       "1  22.969706  26.422668  1247.4  1488.6  20200926_033000.WAV   \n",
       "2  34.754817  38.207779  1289.0  1496.9  20200926_033000.WAV   \n",
       "3  44.888510  48.641730  1230.8  1463.6  20200926_033000.WAV   \n",
       "4  56.373363  59.826326  1239.1  1471.9  20200926_033000.WAV   \n",
       "\n",
       "                                                Path Label Folder  Type  \n",
       "0  D:\\developer\\python\\gibbon\\Raw Audio Files\\Pha...    mm     D9     1  \n",
       "1  D:\\developer\\python\\gibbon\\Raw Audio Files\\Pha...    mm     D9     1  \n",
       "2  D:\\developer\\python\\gibbon\\Raw Audio Files\\Pha...    mm     D9     1  \n",
       "3  D:\\developer\\python\\gibbon\\Raw Audio Files\\Pha...    mm     D9     1  \n",
       "4  D:\\developer\\python\\gibbon\\Raw Audio Files\\Pha...    mm     D9     1  "
      ]
     },
     "execution_count": 126,
     "metadata": {},
     "output_type": "execute_result"
    }
   ],
   "source": [
    "test_df.head()"
   ]
  },
  {
   "cell_type": "code",
   "execution_count": 127,
   "id": "delayed-promotion",
   "metadata": {},
   "outputs": [
    {
     "data": {
      "text/plain": [
       "['D:\\\\developer\\\\python\\\\gibbon\\\\Raw Audio Files\\\\Phase 2 (September to October 2020)\\\\D9\\\\02\\\\20200926_033000.WAV',\n",
       " 'D:\\\\developer\\\\python\\\\gibbon\\\\Raw Audio Files\\\\Phase 2 (September to October 2020)\\\\D9\\\\02\\\\20200928_041500.WAV',\n",
       " 'D:\\\\developer\\\\python\\\\gibbon\\\\Raw Audio Files\\\\Phase 2 (September to October 2020)\\\\D9\\\\02\\\\20200929_033000.WAV',\n",
       " 'D:\\\\developer\\\\python\\\\gibbon\\\\Raw Audio Files\\\\Phase 2 (September to October 2020)\\\\D9\\\\17\\\\20200926_032833.WAV']"
      ]
     },
     "execution_count": 127,
     "metadata": {},
     "output_type": "execute_result"
    }
   ],
   "source": [
    "test_path = test_df[\"Path\"].unique().tolist()\n",
    "test_path"
   ]
  },
  {
   "cell_type": "code",
   "execution_count": 131,
   "id": "narrow-minute",
   "metadata": {},
   "outputs": [
    {
     "ename": "PermissionError",
     "evalue": "[WinError 5] Access is denied: 'D:\\\\developer\\\\python\\\\gibbon\\\\Raw Audio Files\\\\Phase 2 (September to October 2020)\\\\D9\\\\02\\\\20200926_033000.WAV'",
     "output_type": "error",
     "traceback": [
      "\u001b[1;31m---------------------------------------------------------------------------\u001b[0m",
      "\u001b[1;31mPermissionError\u001b[0m                           Traceback (most recent call last)",
      "\u001b[1;32m~\\miniconda3\\envs\\gibbon\\lib\\shutil.py\u001b[0m in \u001b[0;36mmove\u001b[1;34m(src, dst, copy_function)\u001b[0m\n\u001b[0;32m    556\u001b[0m     \u001b[1;32mtry\u001b[0m\u001b[1;33m:\u001b[0m\u001b[1;33m\u001b[0m\u001b[1;33m\u001b[0m\u001b[0m\n\u001b[1;32m--> 557\u001b[1;33m         \u001b[0mos\u001b[0m\u001b[1;33m.\u001b[0m\u001b[0mrename\u001b[0m\u001b[1;33m(\u001b[0m\u001b[0msrc\u001b[0m\u001b[1;33m,\u001b[0m \u001b[0mreal_dst\u001b[0m\u001b[1;33m)\u001b[0m\u001b[1;33m\u001b[0m\u001b[1;33m\u001b[0m\u001b[0m\n\u001b[0m\u001b[0;32m    558\u001b[0m     \u001b[1;32mexcept\u001b[0m \u001b[0mOSError\u001b[0m\u001b[1;33m:\u001b[0m\u001b[1;33m\u001b[0m\u001b[1;33m\u001b[0m\u001b[0m\n",
      "\u001b[1;31mPermissionError\u001b[0m: [WinError 5] Access is denied: 'D:\\\\developer\\\\python\\\\gibbon\\\\Raw Audio Files\\\\Phase 2 (September to October 2020)\\\\D9\\\\02\\\\20200926_033000.WAV' -> 'D:\\\\developer\\\\python\\\\gibbon\\\\test_files\\\\20200926_033000.WAV'",
      "\nDuring handling of the above exception, another exception occurred:\n",
      "\u001b[1;31mPermissionError\u001b[0m                           Traceback (most recent call last)",
      "\u001b[1;32m<ipython-input-131-1d9ae9e9ed95>\u001b[0m in \u001b[0;36m<module>\u001b[1;34m\u001b[0m\n\u001b[0;32m      1\u001b[0m \u001b[1;32mfor\u001b[0m \u001b[0mfile\u001b[0m \u001b[1;32min\u001b[0m \u001b[0mtest_path\u001b[0m\u001b[1;33m:\u001b[0m\u001b[1;33m\u001b[0m\u001b[1;33m\u001b[0m\u001b[0m\n\u001b[1;32m----> 2\u001b[1;33m     \u001b[0mshutil\u001b[0m\u001b[1;33m.\u001b[0m\u001b[0mmove\u001b[0m\u001b[1;33m(\u001b[0m\u001b[0mfile\u001b[0m\u001b[1;33m,\u001b[0m \u001b[0mos\u001b[0m\u001b[1;33m.\u001b[0m\u001b[0mpath\u001b[0m\u001b[1;33m.\u001b[0m\u001b[0mjoin\u001b[0m\u001b[1;33m(\u001b[0m\u001b[0mos\u001b[0m\u001b[1;33m.\u001b[0m\u001b[0mgetcwd\u001b[0m\u001b[1;33m(\u001b[0m\u001b[1;33m)\u001b[0m\u001b[1;33m,\u001b[0m \u001b[1;34m\"test_files\"\u001b[0m\u001b[1;33m)\u001b[0m\u001b[1;33m)\u001b[0m\u001b[1;33m\u001b[0m\u001b[1;33m\u001b[0m\u001b[0m\n\u001b[0m",
      "\u001b[1;32m~\\miniconda3\\envs\\gibbon\\lib\\shutil.py\u001b[0m in \u001b[0;36mmove\u001b[1;34m(src, dst, copy_function)\u001b[0m\n\u001b[0;32m    570\u001b[0m         \u001b[1;32melse\u001b[0m\u001b[1;33m:\u001b[0m\u001b[1;33m\u001b[0m\u001b[1;33m\u001b[0m\u001b[0m\n\u001b[0;32m    571\u001b[0m             \u001b[0mcopy_function\u001b[0m\u001b[1;33m(\u001b[0m\u001b[0msrc\u001b[0m\u001b[1;33m,\u001b[0m \u001b[0mreal_dst\u001b[0m\u001b[1;33m)\u001b[0m\u001b[1;33m\u001b[0m\u001b[1;33m\u001b[0m\u001b[0m\n\u001b[1;32m--> 572\u001b[1;33m             \u001b[0mos\u001b[0m\u001b[1;33m.\u001b[0m\u001b[0munlink\u001b[0m\u001b[1;33m(\u001b[0m\u001b[0msrc\u001b[0m\u001b[1;33m)\u001b[0m\u001b[1;33m\u001b[0m\u001b[1;33m\u001b[0m\u001b[0m\n\u001b[0m\u001b[0;32m    573\u001b[0m     \u001b[1;32mreturn\u001b[0m \u001b[0mreal_dst\u001b[0m\u001b[1;33m\u001b[0m\u001b[1;33m\u001b[0m\u001b[0m\n\u001b[0;32m    574\u001b[0m \u001b[1;33m\u001b[0m\u001b[0m\n",
      "\u001b[1;31mPermissionError\u001b[0m: [WinError 5] Access is denied: 'D:\\\\developer\\\\python\\\\gibbon\\\\Raw Audio Files\\\\Phase 2 (September to October 2020)\\\\D9\\\\02\\\\20200926_033000.WAV'"
     ]
    }
   ],
   "source": [
    "for file in test_path:\n",
    "    shutil.move(file, os.path.join(os.getcwd(), \"test_files\"))"
   ]
  },
  {
   "cell_type": "markdown",
   "id": "mediterranean-disposal",
   "metadata": {},
   "source": [
    "## Analysis"
   ]
  },
  {
   "cell_type": "code",
   "execution_count": 15,
   "id": "shared-census",
   "metadata": {},
   "outputs": [
    {
     "name": "stdout",
     "output_type": "stream",
     "text": [
      "Number of data per type:\n",
      "{'sc': 2734, 'bird': 2577, 'insect': 1219, 'mm': 900, 'gc': 118, 'other': 25, 'human': 1, 'nothing': 1}\n"
     ]
    }
   ],
   "source": [
    "print(f\"Number of data per type:\\n{df['Label'].value_counts().to_dict()}\")"
   ]
  },
  {
   "cell_type": "code",
   "execution_count": 18,
   "id": "digital-classroom",
   "metadata": {},
   "outputs": [
    {
     "data": {
      "image/png": "[encoded data removed]",
      "text/plain": [
       "<Figure size 720x504 with 1 Axes>"
      ]
     },
     "metadata": {
      "needs_background": "light"
     },
     "output_type": "display_data"
    }
   ],
   "source": [
    "df[\"Label\"].value_counts().plot(kind = \"bar\", figsize = (10, 7))\n",
    "plt.show()"
   ]
  },
  {
   "cell_type": "code",
   "execution_count": 19,
   "id": "decimal-saturn",
   "metadata": {},
   "outputs": [],
   "source": [
    "# Drop? \n",
    "# df.drop((df[\"Label\"] == \"human\") | (df[\"Label\"] == \"nothing\") | (df[\"Label\"] == \"other\").index, inplace = True)"
   ]
  },
  {
   "cell_type": "code",
   "execution_count": 20,
   "id": "polish-cigarette",
   "metadata": {},
   "outputs": [],
   "source": [
    "# Counting gibbon class and non-gibbon class\n",
    "df[\"Type\"] = df[\"Label\"].apply(lambda x: 1 if x in [\"sc\", \"mm\", \"gc\"] else 0)"
   ]
  },
  {
   "cell_type": "code",
   "execution_count": 21,
   "id": "competitive-jurisdiction",
   "metadata": {},
   "outputs": [
    {
     "name": "stdout",
     "output_type": "stream",
     "text": [
      "{0: 3850, 1: 3752}\n"
     ]
    }
   ],
   "source": [
    "# Gibbon class and non-gibbon class are almost equal\n",
    "print(dict(df[\"Type\"].value_counts()))"
   ]
  },
  {
   "cell_type": "markdown",
   "id": "warming-blast",
   "metadata": {},
   "source": [
    "### Analysing call duration\n",
    "This is important when we use the rolling window approach, per research paper implementation."
   ]
  },
  {
   "cell_type": "markdown",
   "id": "associate-adams",
   "metadata": {},
   "source": [
    "#### Gibbon calls"
   ]
  },
  {
   "cell_type": "code",
   "execution_count": 22,
   "id": "common-cathedral",
   "metadata": {
    "tags": []
   },
   "outputs": [
    {
     "name": "stderr",
     "output_type": "stream",
     "text": [
      "C:\\Users\\forev\\miniconda3\\envs\\gibbon\\lib\\site-packages\\ipykernel_launcher.py:2: SettingWithCopyWarning: \n",
      "A value is trying to be set on a copy of a slice from a DataFrame.\n",
      "Try using .loc[row_indexer,col_indexer] = value instead\n",
      "\n",
      "See the caveats in the documentation: https://pandas.pydata.org/pandas-docs/stable/user_guide/indexing.html#returning-a-view-versus-a-copy\n",
      "  \n"
     ]
    }
   ],
   "source": [
    "gibbon = df[df[\"Type\"] == 1]\n",
    "gibbon[\"Duration\"] = gibbon[\"End\"] - gibbon[\"Start\"]"
   ]
  },
  {
   "cell_type": "code",
   "execution_count": 23,
   "id": "ordered-drill",
   "metadata": {},
   "outputs": [
    {
     "name": "stdout",
     "output_type": "stream",
     "text": [
      "Average calling duration: 2.211103972929638\n"
     ]
    },
    {
     "data": {
      "text/html": [
       "<div>\n",
       "<style scoped>\n",
       "    .dataframe tbody tr th:only-of-type {\n",
       "        vertical-align: middle;\n",
       "    }\n",
       "\n",
       "    .dataframe tbody tr th {\n",
       "        vertical-align: top;\n",
       "    }\n",
       "\n",
       "    .dataframe thead th {\n",
       "        text-align: right;\n",
       "    }\n",
       "</style>\n",
       "<table border=\"1\" class=\"dataframe\">\n",
       "  <thead>\n",
       "    <tr style=\"text-align: right;\">\n",
       "      <th></th>\n",
       "      <th>Duration</th>\n",
       "      <th>Count</th>\n",
       "    </tr>\n",
       "  </thead>\n",
       "  <tbody>\n",
       "    <tr>\n",
       "      <th>0</th>\n",
       "      <td>0.916054</td>\n",
       "      <td>27</td>\n",
       "    </tr>\n",
       "    <tr>\n",
       "      <th>1</th>\n",
       "      <td>0.683745</td>\n",
       "      <td>24</td>\n",
       "    </tr>\n",
       "    <tr>\n",
       "      <th>2</th>\n",
       "      <td>0.724085</td>\n",
       "      <td>24</td>\n",
       "    </tr>\n",
       "    <tr>\n",
       "      <th>3</th>\n",
       "      <td>0.800305</td>\n",
       "      <td>17</td>\n",
       "    </tr>\n",
       "    <tr>\n",
       "      <th>4</th>\n",
       "      <td>0.883338</td>\n",
       "      <td>17</td>\n",
       "    </tr>\n",
       "    <tr>\n",
       "      <th>...</th>\n",
       "      <td>...</td>\n",
       "      <td>...</td>\n",
       "    </tr>\n",
       "    <tr>\n",
       "      <th>2307</th>\n",
       "      <td>2.547770</td>\n",
       "      <td>1</td>\n",
       "    </tr>\n",
       "    <tr>\n",
       "      <th>2308</th>\n",
       "      <td>1.526835</td>\n",
       "      <td>1</td>\n",
       "    </tr>\n",
       "    <tr>\n",
       "      <th>2309</th>\n",
       "      <td>7.606667</td>\n",
       "      <td>1</td>\n",
       "    </tr>\n",
       "    <tr>\n",
       "      <th>2310</th>\n",
       "      <td>0.971622</td>\n",
       "      <td>1</td>\n",
       "    </tr>\n",
       "    <tr>\n",
       "      <th>2311</th>\n",
       "      <td>4.089528</td>\n",
       "      <td>1</td>\n",
       "    </tr>\n",
       "  </tbody>\n",
       "</table>\n",
       "<p>2312 rows × 2 columns</p>\n",
       "</div>"
      ],
      "text/plain": [
       "      Duration  Count\n",
       "0     0.916054     27\n",
       "1     0.683745     24\n",
       "2     0.724085     24\n",
       "3     0.800305     17\n",
       "4     0.883338     17\n",
       "...        ...    ...\n",
       "2307  2.547770      1\n",
       "2308  1.526835      1\n",
       "2309  7.606667      1\n",
       "2310  0.971622      1\n",
       "2311  4.089528      1\n",
       "\n",
       "[2312 rows x 2 columns]"
      ]
     },
     "execution_count": 23,
     "metadata": {},
     "output_type": "execute_result"
    }
   ],
   "source": [
    "print(f\"Average calling duration: {gibbon.Duration.mean()}\")\n",
    "gibbon_count = gibbon[\"Duration\"].value_counts().sort_values(ascending = False).reset_index()\n",
    "gibbon_count.columns = [\"Duration\", \"Count\"]\n",
    "gibbon_count"
   ]
  },
  {
   "cell_type": "code",
   "execution_count": 24,
   "id": "current-flesh",
   "metadata": {},
   "outputs": [
    {
     "data": {
      "image/png": "[encoded data removed]",
      "text/plain": [
       "<Figure size 720x504 with 1 Axes>"
      ]
     },
     "metadata": {
      "needs_background": "light"
     },
     "output_type": "display_data"
    }
   ],
   "source": [
    "gibbon_duration = gibbon[\"Duration\"].tolist()\n",
    "\n",
    "fig, ax = plt.subplots(figsize = (10, 7))\n",
    "\n",
    "ax.hist(gibbon_duration)\n",
    "ax.set(xlabel = \"duration\", ylabel = \"count\")\n",
    "plt.show()"
   ]
  },
  {
   "cell_type": "markdown",
   "id": "humanitarian-bracelet",
   "metadata": {},
   "source": [
    "Are there differences between the type of calls and their duration?"
   ]
  },
  {
   "cell_type": "code",
   "execution_count": 25,
   "id": "driven-cargo",
   "metadata": {},
   "outputs": [
    {
     "name": "stdout",
     "output_type": "stream",
     "text": [
      "Different types of gibbon call and their duration:\n",
      "{'gc': 8.419946853847458, 'mm': 4.677530884615555, 'sc': 1.1312108930226774}\n"
     ]
    }
   ],
   "source": [
    "print(f\"Different types of gibbon call and their duration:\\n{gibbon.groupby('Label')['Duration'].mean().to_dict()}\")"
   ]
  },
  {
   "cell_type": "code",
   "execution_count": 26,
   "id": "naval-treaty",
   "metadata": {},
   "outputs": [
    {
     "name": "stdout",
     "output_type": "stream",
     "text": [
      "Number of data points per type of call:\n",
      "{'sc': 2734, 'mm': 900, 'gc': 118}\n"
     ]
    }
   ],
   "source": [
    "print(f\"Number of data points per type of call:\\n{gibbon['Label'].value_counts().to_dict()}\")"
   ]
  },
  {
   "cell_type": "markdown",
   "id": "respective-horse",
   "metadata": {},
   "source": [
    "#### Non-gibbon calls"
   ]
  },
  {
   "cell_type": "code",
   "execution_count": 107,
   "id": "interracial-ranking",
   "metadata": {
    "collapsed": true,
    "jupyter": {
     "outputs_hidden": true
    },
    "tags": []
   },
   "outputs": [
    {
     "name": "stderr",
     "output_type": "stream",
     "text": [
      "C:\\Users\\forev\\miniconda3\\envs\\gibbon\\lib\\site-packages\\ipykernel_launcher.py:2: SettingWithCopyWarning: \n",
      "A value is trying to be set on a copy of a slice from a DataFrame.\n",
      "Try using .loc[row_indexer,col_indexer] = value instead\n",
      "\n",
      "See the caveats in the documentation: https://pandas.pydata.org/pandas-docs/stable/user_guide/indexing.html#returning-a-view-versus-a-copy\n",
      "  \n"
     ]
    }
   ],
   "source": [
    "non_gibbon = df[df[\"Type\"] == 0]\n",
    "non_gibbon[\"Duration\"] = non_gibbon[\"End\"] - non_gibbon[\"Start\"]"
   ]
  },
  {
   "cell_type": "code",
   "execution_count": 108,
   "id": "associate-assault",
   "metadata": {},
   "outputs": [
    {
     "name": "stdout",
     "output_type": "stream",
     "text": [
      "Average calling duration: 1.1047267876511684\n"
     ]
    },
    {
     "data": {
      "text/html": [
       "<div>\n",
       "<style scoped>\n",
       "    .dataframe tbody tr th:only-of-type {\n",
       "        vertical-align: middle;\n",
       "    }\n",
       "\n",
       "    .dataframe tbody tr th {\n",
       "        vertical-align: top;\n",
       "    }\n",
       "\n",
       "    .dataframe thead th {\n",
       "        text-align: right;\n",
       "    }\n",
       "</style>\n",
       "<table border=\"1\" class=\"dataframe\">\n",
       "  <thead>\n",
       "    <tr style=\"text-align: right;\">\n",
       "      <th></th>\n",
       "      <th>Duration</th>\n",
       "      <th>Count</th>\n",
       "    </tr>\n",
       "  </thead>\n",
       "  <tbody>\n",
       "    <tr>\n",
       "      <th>0</th>\n",
       "      <td>0.724085</td>\n",
       "      <td>21</td>\n",
       "    </tr>\n",
       "    <tr>\n",
       "      <th>1</th>\n",
       "      <td>0.743140</td>\n",
       "      <td>21</td>\n",
       "    </tr>\n",
       "    <tr>\n",
       "      <th>2</th>\n",
       "      <td>0.571646</td>\n",
       "      <td>19</td>\n",
       "    </tr>\n",
       "    <tr>\n",
       "      <th>3</th>\n",
       "      <td>0.952744</td>\n",
       "      <td>19</td>\n",
       "    </tr>\n",
       "    <tr>\n",
       "      <th>4</th>\n",
       "      <td>0.705030</td>\n",
       "      <td>17</td>\n",
       "    </tr>\n",
       "    <tr>\n",
       "      <th>...</th>\n",
       "      <td>...</td>\n",
       "      <td>...</td>\n",
       "    </tr>\n",
       "    <tr>\n",
       "      <th>2131</th>\n",
       "      <td>0.769214</td>\n",
       "      <td>1</td>\n",
       "    </tr>\n",
       "    <tr>\n",
       "      <th>2132</th>\n",
       "      <td>0.702066</td>\n",
       "      <td>1</td>\n",
       "    </tr>\n",
       "    <tr>\n",
       "      <th>2133</th>\n",
       "      <td>0.364534</td>\n",
       "      <td>1</td>\n",
       "    </tr>\n",
       "    <tr>\n",
       "      <th>2134</th>\n",
       "      <td>0.685975</td>\n",
       "      <td>1</td>\n",
       "    </tr>\n",
       "    <tr>\n",
       "      <th>2135</th>\n",
       "      <td>0.835378</td>\n",
       "      <td>1</td>\n",
       "    </tr>\n",
       "  </tbody>\n",
       "</table>\n",
       "<p>2136 rows × 2 columns</p>\n",
       "</div>"
      ],
      "text/plain": [
       "      Duration  Count\n",
       "0     0.724085     21\n",
       "1     0.743140     21\n",
       "2     0.571646     19\n",
       "3     0.952744     19\n",
       "4     0.705030     17\n",
       "...        ...    ...\n",
       "2131  0.769214      1\n",
       "2132  0.702066      1\n",
       "2133  0.364534      1\n",
       "2134  0.685975      1\n",
       "2135  0.835378      1\n",
       "\n",
       "[2136 rows x 2 columns]"
      ]
     },
     "execution_count": 108,
     "metadata": {},
     "output_type": "execute_result"
    }
   ],
   "source": [
    "print(f\"Average calling duration: {non_gibbon.Duration.mean()}\")\n",
    "non_gibbon_count = non_gibbon[\"Duration\"].value_counts().sort_values(ascending = False).reset_index()\n",
    "non_gibbon_count.columns = [\"Duration\", \"Count\"]\n",
    "non_gibbon_count"
   ]
  },
  {
   "cell_type": "code",
   "execution_count": 110,
   "id": "combined-allowance",
   "metadata": {},
   "outputs": [
    {
     "data": {
      "image/png": "[encoded data removed]",
      "text/plain": [
       "<Figure size 720x504 with 1 Axes>"
      ]
     },
     "metadata": {
      "needs_background": "light"
     },
     "output_type": "display_data"
    }
   ],
   "source": [
    "non_gibbon_duration = non_gibbon[\"Duration\"].tolist()\n",
    "\n",
    "fig, ax = plt.subplots(figsize = (10, 7))\n",
    "\n",
    "ax.hist(non_gibbon_duration)\n",
    "ax.set(xlabel = \"duration\", ylabel = \"count\")\n",
    "plt.show()"
   ]
  },
  {
   "cell_type": "code",
   "execution_count": 111,
   "id": "little-anaheim",
   "metadata": {},
   "outputs": [
    {
     "name": "stdout",
     "output_type": "stream",
     "text": [
      "Different types of gibbon call and their duration:\n",
      "{'bird': 1.2850583430795457, 'human': 3.8535155000000145, 'insect': 0.7007783448408521, 'nothing': 1.027397045999976, 'other': 2.2391466933200004}\n"
     ]
    }
   ],
   "source": [
    "print(f\"Different types of gibbon call and their duration:\\n{non_gibbon.groupby('Label')['Duration'].mean().to_dict()}\")"
   ]
  },
  {
   "cell_type": "code",
   "execution_count": 117,
   "id": "quality-equality",
   "metadata": {},
   "outputs": [
    {
     "name": "stdout",
     "output_type": "stream",
     "text": [
      "Number of data points per type of call:\n",
      "{'bird': 2577, 'insect': 1219, 'other': 25, 'human': 1, 'nothing': 1}\n"
     ]
    }
   ],
   "source": [
    "print(f\"Number of data points per type of call:\\n{non_gibbon['Label'].value_counts().to_dict()}\")"
   ]
  },
  {
   "cell_type": "markdown",
   "id": "clinical-petite",
   "metadata": {},
   "source": [
    "**TODO**\n",
    "* Figure an approach"
   ]
  }
 ],
 "metadata": {
  "kernelspec": {
   "display_name": "gibbon",
   "language": "python",
   "name": "gibbon"
  },
  "language_info": {
   "codemirror_mode": {
    "name": "ipython",
    "version": 3
   },
   "file_extension": ".py",
   "mimetype": "text/x-python",
   "name": "python",
   "nbconvert_exporter": "python",
   "pygments_lexer": "ipython3",
   "version": "3.7.1"
  }
 },
 "nbformat": 4,
 "nbformat_minor": 5
}
