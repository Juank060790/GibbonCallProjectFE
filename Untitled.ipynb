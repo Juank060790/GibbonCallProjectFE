{
 "cells": [
  {
   "cell_type": "code",
   "execution_count": 6,
   "id": "injured-fields",
   "metadata": {},
   "outputs": [],
   "source": [
    "from model.baseline import *\n",
    "from helper.extract import *\n",
    "from prediction.post_processing import * \n",
    "\n",
    "import time\n",
    "import numpy as np\n",
    "import librosa\n",
    "import pandas as pd "
   ]
  },
  {
   "cell_type": "code",
   "execution_count": 234,
   "id": "turned-institution",
   "metadata": {},
   "outputs": [],
   "source": [
    "test_audios = [str(file).split(\"\\\\\")[-1] for file in pathlib.Path(\"test_files\").glob(\"*.WAV\")]"
   ]
  },
  {
   "cell_type": "code",
   "execution_count": 236,
   "id": "continuous-generic",
   "metadata": {},
   "outputs": [],
   "source": [
    "labels = [str(file) for file in pathlib.Path(\"Selection Tables\").glob(\"*.txt\")]"
   ]
  },
  {
   "cell_type": "code",
   "execution_count": 237,
   "id": "underlying-accordance",
   "metadata": {
    "tags": []
   },
   "outputs": [],
   "source": [
    "test_labels = []\n",
    "for file in labels:\n",
    "    with open(file, \"rb\") as f:\n",
    "        df = pd.read_csv(file, delimiter = \"\\t\")\n",
    "    if \" \".join(df[\"Begin File\"].unique()) in test_audios:\n",
    "        test_labels.append(os.path.join(os.getcwd(), file))"
   ]
  },
  {
   "cell_type": "code",
   "execution_count": 276,
   "id": "opponent-fellowship",
   "metadata": {},
   "outputs": [],
   "source": [
    "def predict(folder: str, file: str, sample_rate: int, model_folder: str, model_weights: str, alpha: int, \n",
    "            prediction_output: str):\n",
    "    \n",
    "    audio, _ = librosa.load(os.path.join(folder, file), sr = sample_rate)\n",
    "    \n",
    "    start, end = timeIndex(alpha, len(audio) / sample_rate)\n",
    "    prediction = executePrediction(start, end, audio, sample_rate, model_folder, model_weights)\n",
    "    \n",
    "    results = pd.DataFrame(np.column_stack((start, end, prediction[:,0], prediction[:,1])), \n",
    "                 columns = ['Start(seconds)', 'End(seconds)', 'Pr(absence)', 'Pr(presence)'])\n",
    "    \n",
    "    segments = postProcess(prediction, 0.76)\n",
    "    \n",
    "    return segments"
   ]
  },
  {
   "cell_type": "code",
   "execution_count": 277,
   "id": "realistic-endorsement",
   "metadata": {},
   "outputs": [],
   "source": [
    "def executePrediction(start: np.ndarray, end: np.ndarray, audio: np.ndarray, sample_rate: int, model_folder: str, model_weights: str):\n",
    "    extracted = []\n",
    "    \n",
    "    for start_index, end_index in zip(start, end):\n",
    "        extracted.append(audio[int(start_index * sample_rate): int(end_index * sample_rate)])\n",
    "    \n",
    "    spectrogram = extractSpectrogram(np.asarray(extracted), sample_rate)\n",
    "    spectrogram = spectrogram.astype(\"float32\")\n",
    "    \n",
    "    model = network()\n",
    "    model.load_weights(os.path.join(os.getcwd(), model_folder, model_weights))\n",
    "    prediction = model.predict(spectrogram, batch_size = 32)\n",
    "    \n",
    "    return prediction"
   ]
  },
  {
   "cell_type": "code",
   "execution_count": 278,
   "id": "accepting-allocation",
   "metadata": {},
   "outputs": [
    {
     "name": "stdout",
     "output_type": "stream",
     "text": [
      "     Start(seconds)  End(seconds)  Pr(absence)  Pr(presence)\n",
      "0               0.0          10.0     0.907604      0.092396\n",
      "1               1.0          11.0     0.907782      0.092218\n",
      "2               2.0          12.0     0.908869      0.091131\n",
      "3               3.0          13.0     0.909836      0.090164\n",
      "4               4.0          14.0     0.910726      0.089274\n",
      "..              ...           ...          ...           ...\n",
      "286           286.0         296.0     0.666387      0.333613\n",
      "287           287.0         297.0     0.856197      0.143803\n",
      "288           288.0         298.0     0.903538      0.096462\n",
      "289           289.0         299.0     0.906287      0.093713\n",
      "290           290.0         300.0     0.549691      0.450309\n",
      "\n",
      "[291 rows x 4 columns]\n",
      "[285 110 111 112 113 114 115 116 146 147 148 168 169 170 171 177 178 179\n",
      " 180 181 182 183 190 191 192 193 211 212 213 214 215 216 217 218 220 221\n",
      " 222 223 224 225 226 227 237 238 239 240 241 242 243 244 245 257 258 259\n",
      " 260 261 262 263 264 265 270 271 272 273 276 277 278 279 280 281 282 283\n",
      " 284]\n"
     ]
    }
   ],
   "source": [
    "prediction = predict(\"test_files\", test_audios[0], 4800, \"model/ckpt\", \"baseline.hdf5\", 10, \"\")"
   ]
  },
  {
   "cell_type": "code",
   "execution_count": 272,
   "id": "mediterranean-state",
   "metadata": {},
   "outputs": [
    {
     "data": {
      "text/plain": [
       "[[110, 294]]"
      ]
     },
     "execution_count": 272,
     "metadata": {},
     "output_type": "execute_result"
    }
   ],
   "source": [
    "prediction"
   ]
  },
  {
   "cell_type": "code",
   "execution_count": 261,
   "id": "contained-coaching",
   "metadata": {},
   "outputs": [],
   "source": [
    "def postProcess(prediction: np.ndarray, threshold: float):\n",
    "    values = prediction\n",
    "    #Boolean mask where prediction of gibbon class is greater than threshold \n",
    "    values = values[:, 1] > threshold \n",
    "    values = values.astype(np.int)\n",
    "    #Extract indices where boolean mask is true \n",
    "    values = np.where(values == 1)[0]\n",
    "    \n",
    "    connected_components = []\n",
    "    if len(values > 0):\n",
    "        connected_components = getComponents(values)\n",
    "        connected_components = check(connected_components)\n",
    "        connected_components = getConnectedComponents(connected_components)\n",
    "    \n",
    "    return connected_components"
   ]
  },
  {
   "cell_type": "code",
   "execution_count": 279,
   "id": "narrative-priority",
   "metadata": {},
   "outputs": [],
   "source": [
    "def getComponents(values: np.ndarray):\n",
    "    \n",
    "    #Duration of segments \n",
    "    shifted = np.roll(values, 1)\n",
    "    #Set first index equal to the starting time\n",
    "    shifted[0] = 0\n",
    "    difference = shifted - values \n",
    "    #If the duration is over 200s then exclude \n",
    "    shifted[difference < -200] = 0 \n",
    "    \n",
    "    connected_components = []\n",
    "    i = 0 \n",
    "    while i < len(shifted):\n",
    "        if shifted[i] > 0:\n",
    "            component = []\n",
    "            j = 0\n",
    "            while j < len(shifted) - i:\n",
    "                if shifted[i + j] > 0:\n",
    "                    component.append(shifted[i + j])\n",
    "                else:\n",
    "                    break\n",
    "                j += 1\n",
    "            connected_components.append(component)\n",
    "            #Skip to next segment \n",
    "            i = i + j\n",
    "        i += 1\n",
    "    \n",
    "    return connected_components"
   ]
  },
  {
   "cell_type": "code",
   "execution_count": 214,
   "id": "beneficial-hurricane",
   "metadata": {},
   "outputs": [],
   "source": [
    "def check(connected_components: list):\n",
    "    cleaned_components = []\n",
    "    \n",
    "    for component in connected_components:\n",
    "        \n",
    "        #Skip any components of less than 20 segments \n",
    "        if not len(component) < 20:\n",
    "            rolled = component - np.roll(component, 1)\n",
    "            rolled[0] = 0\n",
    "            \n",
    "            if np.average(rolled) < 10:\n",
    "                cleaned_components.append(component)\n",
    "    \n",
    "    return cleaned_components"
   ]
  },
  {
   "cell_type": "code",
   "execution_count": 215,
   "id": "higher-removal",
   "metadata": {},
   "outputs": [],
   "source": [
    "def getConnectedComponents(connected_components: list):\n",
    "    gibbon_indices = []\n",
    "    \n",
    "    for component in connected_components:\n",
    "        gibbon_indices.append([component[0], component[-1] + 10])\n",
    "    \n",
    "    return gibbon_indices"
   ]
  },
  {
   "cell_type": "code",
   "execution_count": 216,
   "id": "interior-focus",
   "metadata": {},
   "outputs": [],
   "source": [
    "connected_component = postProcess(prediction, 0.76)"
   ]
  },
  {
   "cell_type": "code",
   "execution_count": 217,
   "id": "frank-maryland",
   "metadata": {},
   "outputs": [
    {
     "data": {
      "text/plain": [
       "[[110, 294]]"
      ]
     },
     "execution_count": 217,
     "metadata": {},
     "output_type": "execute_result"
    }
   ],
   "source": [
    "connected_component"
   ]
  },
  {
   "cell_type": "code",
   "execution_count": 69,
   "id": "prerequisite-award",
   "metadata": {},
   "outputs": [],
   "source": [
    "values = prediction"
   ]
  },
  {
   "cell_type": "code",
   "execution_count": 70,
   "id": "minor-potential",
   "metadata": {},
   "outputs": [],
   "source": [
    "false = values[:, 1] > 0.76"
   ]
  },
  {
   "cell_type": "code",
   "execution_count": 71,
   "id": "welsh-schema",
   "metadata": {},
   "outputs": [],
   "source": [
    "false = false.astype(np.int)"
   ]
  },
  {
   "cell_type": "code",
   "execution_count": 72,
   "id": "answering-factory",
   "metadata": {},
   "outputs": [],
   "source": [
    "false = np.where(false == 1)[0]"
   ]
  },
  {
   "cell_type": "code",
   "execution_count": 73,
   "id": "daily-carter",
   "metadata": {},
   "outputs": [
    {
     "data": {
      "text/plain": [
       "array([110, 111, 112, 113, 114, 115, 116, 146, 147, 148, 168, 169, 170,\n",
       "       171, 177, 178, 179, 180, 181, 182, 183, 190, 191, 192, 193, 211,\n",
       "       212, 213, 214, 215, 216, 217, 218, 220, 221, 222, 223, 224, 225,\n",
       "       226, 227, 237, 238, 239, 240, 241, 242, 243, 244, 245, 257, 258,\n",
       "       259, 260, 261, 262, 263, 264, 265, 270, 271, 272, 273, 276, 277,\n",
       "       278, 279, 280, 281, 282, 283, 284, 285], dtype=int64)"
      ]
     },
     "execution_count": 73,
     "metadata": {},
     "output_type": "execute_result"
    }
   ],
   "source": [
    "false"
   ]
  },
  {
   "cell_type": "code",
   "execution_count": 74,
   "id": "modern-investing",
   "metadata": {},
   "outputs": [],
   "source": [
    "shifted = np.roll(false, 1)"
   ]
  },
  {
   "cell_type": "code",
   "execution_count": 76,
   "id": "higher-calculation",
   "metadata": {},
   "outputs": [
    {
     "data": {
      "text/plain": [
       "array([  0, 110, 111, 112, 113, 114, 115, 116, 146, 147, 148, 168, 169,\n",
       "       170, 171, 177, 178, 179, 180, 181, 182, 183, 190, 191, 192, 193,\n",
       "       211, 212, 213, 214, 215, 216, 217, 218, 220, 221, 222, 223, 224,\n",
       "       225, 226, 227, 237, 238, 239, 240, 241, 242, 243, 244, 245, 257,\n",
       "       258, 259, 260, 261, 262, 263, 264, 265, 270, 271, 272, 273, 276,\n",
       "       277, 278, 279, 280, 281, 282, 283, 284], dtype=int64)"
      ]
     },
     "execution_count": 76,
     "metadata": {},
     "output_type": "execute_result"
    }
   ],
   "source": [
    "shifted[0] = 0\n",
    "shifted"
   ]
  },
  {
   "cell_type": "code",
   "execution_count": 105,
   "id": "static-armenia",
   "metadata": {},
   "outputs": [
    {
     "data": {
      "text/plain": [
       "array([[110, 111, 112, 113, 114, 115, 116, 146, 147, 148, 168, 169, 170,\n",
       "        171, 177, 178, 179, 180, 181, 182, 183, 190, 191, 192, 193, 211,\n",
       "        212, 213, 214, 215, 216, 217, 218, 220, 221, 222, 223, 224, 225,\n",
       "        226, 227, 237, 238, 239, 240, 241, 242, 243, 244, 245, 257, 258,\n",
       "        259, 260, 261, 262, 263, 264, 265, 270, 271, 272, 273, 276, 277,\n",
       "        278, 279, 280, 281, 282, 283, 284]], dtype=int64)"
      ]
     },
     "execution_count": 105,
     "metadata": {},
     "output_type": "execute_result"
    }
   ],
   "source": [
    "(np.asarray(connected_component))"
   ]
  },
  {
   "cell_type": "code",
   "execution_count": 77,
   "id": "naked-presentation",
   "metadata": {},
   "outputs": [
    {
     "data": {
      "text/plain": [
       "array([-110,   -1,   -1,   -1,   -1,   -1,   -1,  -30,   -1,   -1,  -20,\n",
       "         -1,   -1,   -1,   -6,   -1,   -1,   -1,   -1,   -1,   -1,   -7,\n",
       "         -1,   -1,   -1,  -18,   -1,   -1,   -1,   -1,   -1,   -1,   -1,\n",
       "         -2,   -1,   -1,   -1,   -1,   -1,   -1,   -1,  -10,   -1,   -1,\n",
       "         -1,   -1,   -1,   -1,   -1,   -1,  -12,   -1,   -1,   -1,   -1,\n",
       "         -1,   -1,   -1,   -1,   -5,   -1,   -1,   -1,   -3,   -1,   -1,\n",
       "         -1,   -1,   -1,   -1,   -1,   -1,   -1], dtype=int64)"
      ]
     },
     "execution_count": 77,
     "metadata": {},
     "output_type": "execute_result"
    }
   ],
   "source": [
    "difference = shifted - false\n",
    "difference"
   ]
  },
  {
   "cell_type": "code",
   "execution_count": 58,
   "id": "familiar-links",
   "metadata": {},
   "outputs": [
    {
     "data": {
      "text/plain": [
       "array([  0, 110, 111, 112, 113, 114, 115, 116, 146, 147, 148, 168, 169,\n",
       "       170, 171, 177, 178, 179, 180, 181, 182, 183, 190, 191, 192, 193,\n",
       "       211, 212, 213, 214, 215, 216, 217, 218, 220, 221, 222, 223, 224,\n",
       "       225, 226, 227, 237, 238, 239, 240, 241, 242, 243, 244, 245, 257,\n",
       "       258, 259, 260, 261, 262, 263, 264, 265, 270, 271, 272, 273, 276,\n",
       "       277, 278, 279, 280, 281, 282, 283, 284], dtype=int64)"
      ]
     },
     "execution_count": 58,
     "metadata": {},
     "output_type": "execute_result"
    }
   ],
   "source": [
    "shifted"
   ]
  },
  {
   "cell_type": "code",
   "execution_count": 57,
   "id": "strange-blanket",
   "metadata": {},
   "outputs": [
    {
     "data": {
      "text/plain": [
       "array([-110,   -1,   -1,   -1,   -1,   -1,   -1,  -30,   -1,   -1,  -20,\n",
       "         -1,   -1,   -1,   -6,   -1,   -1,   -1,   -1,   -1,   -1,   -7,\n",
       "         -1,   -1,   -1,  -18,   -1,   -1,   -1,   -1,   -1,   -1,   -1,\n",
       "         -2,   -1,   -1,   -1,   -1,   -1,   -1,   -1,  -10,   -1,   -1,\n",
       "         -1,   -1,   -1,   -1,   -1,   -1,  -12,   -1,   -1,   -1,   -1,\n",
       "         -1,   -1,   -1,   -1,   -5,   -1,   -1,   -1,   -3,   -1,   -1,\n",
       "         -1,   -1,   -1,   -1,   -1,   -1,   -1], dtype=int64)"
      ]
     },
     "execution_count": 57,
     "metadata": {},
     "output_type": "execute_result"
    }
   ],
   "source": [
    "difference"
   ]
  }
 ],
 "metadata": {
  "kernelspec": {
   "display_name": "gibbon",
   "language": "python",
   "name": "gibbon"
  },
  "language_info": {
   "codemirror_mode": {
    "name": "ipython",
    "version": 3
   },
   "file_extension": ".py",
   "mimetype": "text/x-python",
   "name": "python",
   "nbconvert_exporter": "python",
   "pygments_lexer": "ipython3",
   "version": "3.7.1"
  }
 },
 "nbformat": 4,
 "nbformat_minor": 5
}
